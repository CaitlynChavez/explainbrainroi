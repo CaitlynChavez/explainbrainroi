{
 "cells": [
  {
   "cell_type": "code",
   "execution_count": 1,
   "metadata": {},
   "outputs": [
    {
     "name": "stdout",
     "output_type": "stream",
     "text": [
      "Subcortical FSL Stats Volume Extraction\n",
      "what is subcort? <class 'str'>\n",
      "Processed: sub-A00000844_ses-20100101_acq-mprage_echo-01_T1w\n",
      "Subcortical FSL Stats Volume Extraction\n",
      "what is subcort? <class 'str'>\n",
      "Processed: sub-A00000838_ses-20100101_acq-mprage_run-01_T1w\n",
      "Subcortical FSL Stats Volume Extraction\n",
      "what is subcort? <class 'str'>\n",
      "Processed: sub-A00000909_ses-20110101_acq-mprage_run-02_T1w\n",
      "Subcortical FSL Stats Volume Extraction\n",
      "what is subcort? <class 'str'>\n",
      "Processed: sub-A00000368_ses-20110101_acq-mprage_run-01_T1w\n",
      "Subcortical FSL Stats Volume Extraction\n",
      "what is subcort? <class 'str'>\n",
      "Processed: sub-A00000541_ses-20100101_acq-mprage_run-02_T1w\n",
      "Subcortical FSL Stats Volume Extraction\n",
      "what is subcort? <class 'str'>\n",
      "Processed: sub-A00000456_ses-20090101_acq-mprage_run-02_T1w\n",
      "Subcortical FSL Stats Volume Extraction\n",
      "what is subcort? <class 'str'>\n",
      "Processed: sub-A00000865_ses-20100101_acq-mprage_echo-01_T1w\n",
      "{'sub-A00000844_ses-20100101_acq-mprage_echo-01_T1w': ['193066 193065.044867 ', '394250 394248.049572 ', '5723 5722.971687 ', '7478 7477.963005 ', '2915 2914.985579 ', '4709 4708.976704 ', '1797 1796.991110 ', '23082 23081.885809 ', '3352 3351.983417 ', '1652 1651.991827 ', '531 530.997373 ', '199392 199391.013571 ', '398207 398205.029996 ', '5290 5289.973829 ', '7474 7473.963025 ', '2818 2817.986059 ', '4949 4948.975516 ', '1893 1892.990635 ', '3714 3713.981626 ', '1999 1998.990111 ', '452 451.997764 ', ''], 'sub-A00000838_ses-20100101_acq-mprage_run-01_T1w': ['186344 186344.599776 ', '404816 404817.302961 ', '5840 5840.018797 ', '7807 7807.025128 ', '2969 2969.009556 ', '4763 4763.015330 ', '1712 1712.005510 ', '23487 23487.075596 ', '3398 3398.010937 ', '1701 1701.005475 ', '541 541.001741 ', '190394 190394.612812 ', '407154 407155.310487 ', '5245 5245.016882 ', '7678 7678.024713 ', '2915 2915.009382 ', '5031 5031.016193 ', '1880 1880.006051 ', '3728 3728.011999 ', '2126 2126.006843 ', '436 436.001403 ', ''], 'sub-A00000909_ses-20110101_acq-mprage_run-02_T1w': ['209078 209077.651063 ', '361426 361425.396805 ', '8586 8585.985671 ', '5952 5951.990067 ', '5307 5306.991143 ', '5382 5381.991018 ', '1745 1744.997088 ', '25310 25309.957759 ', '4020 4019.993291 ', '2322 2321.996125 ', '448 447.999252 ', '201107 201106.664366 ', '382340 382339.361901 ', '7274 7273.987860 ', '6036 6035.989926 ', '5320 5319.991121 ', '5501 5500.990819 ', '1548 1547.997416 ', '4030 4029.993274 ', '2562 2561.995724 ', '320 319.999466 ', ''], 'sub-A00000368_ses-20110101_acq-mprage_run-01_T1w': ['157016 157016.149742 ', '346764 346764.330700 ', '6727 6727.006415 ', '5333 5333.005086 ', '3685 3685.003514 ', '5652 5652.005390 ', '1432 1432.001366 ', '22943 22943.021880 ', '2890 2890.002756 ', '1667 1667.001590 ', '294 294.000280 ', '165066 165066.157419 ', '350031 350031.333816 ', '7876 7876.007511 ', '5401 5401.005151 ', '3731 3731.003558 ', '4812 4812.004589 ', '1343 1343.001281 ', '3663 3663.003493 ', '1855 1855.001769 ', '255 255.000243 ', ''], 'sub-A00000541_ses-20100101_acq-mprage_run-02_T1w': ['117664 117664.014027 ', '274227 274227.032690 ', '5370 5370.000640 ', '5470 5470.000652 ', '1924 1924.000229 ', '3470 3470.000414 ', '1158 1158.000138 ', '19845 19845.002366 ', '2294 2294.000273 ', '924 924.000110 ', '224 224.000027 ', '121377 121377.014469 ', '268507 268507.032009 ', '4787 4787.000571 ', '5441 5441.000649 ', '1994 1994.000238 ', '3380 3380.000403 ', '1277 1277.000152 ', '2469 2469.000294 ', '1067 1067.000127 ', '219 219.000026 ', ''], 'sub-A00000456_ses-20090101_acq-mprage_run-02_T1w': ['161196 161196.980019 ', '342420 342422.081802 ', '7401 7401.044996 ', '6192 6192.037645 ', '2315 2315.014074 ', '3860 3860.023468 ', '1530 1530.009302 ', '25591 25591.155585 ', '3059 3059.018598 ', '1378 1378.008378 ', '395 395.002401 ', '160715 160715.977095 ', '346953 346955.109361 ', '7492 7492.045549 ', '6155 6155.037420 ', '2546 2546.015479 ', '3954 3954.024039 ', '1412 1412.008584 ', '3139 3139.019084 ', '1614 1614.009813 ', '328 328.001994 ', ''], 'sub-A00000865_ses-20100101_acq-mprage_echo-01_T1w': ['184809 184808.757660 ', '377116 377115.505487 ', '16803 16802.977966 ', '6605 6604.991339 ', '3647 3646.995218 ', '4759 4758.993760 ', '1643 1642.997846 ', '22178 22177.970918 ', '3722 3721.995119 ', '1657 1656.997827 ', '406 405.999468 ', '184286 184285.758345 ', '372971 372970.510922 ', '11208 11207.985303 ', '6118 6117.991977 ', '3377 3376.995572 ', '4848 4847.993643 ', '1648 1647.997839 ', '3209 3208.995792 ', '1590 1589.997915 ', '311 310.999592 ', '']}\n",
      "<class 'dict'>\n"
     ]
    }
   ],
   "source": [
    "import os\n",
    "import nibabel as nib\n",
    "import numpy as np\n",
    "import pandas as pd\n",
    "import subprocess\n",
    "\n",
    "directory =  \"/mnt/md0/cads-phd/explainbrainROI/spr_mini_try_again\"\n",
    "\n",
    "patient_data = {}\n",
    "\n",
    "# Iterate over files in the directory\n",
    "for filename in os.listdir(directory):\n",
    "    if filename.endswith(\".anat\"):\n",
    "        # Extract the patient identifier from the filename\n",
    "        patient = filename[:-5]\n",
    "\n",
    "        # Construct the command for subprocess\n",
    "        print(\"Subcortical FSL Stats Volume Extraction\")\n",
    "        out_subcort = sout = subprocess.Popen([\"fslstats\", \"-K\", directory+\"/\"+filename+\"/Warps/subcort_HO_in_subj_t1_space.nii.gz\", directory+\"/\"+filename+\"/T1.nii.gz\", \"-V\"], stdout=subprocess.PIPE, stderr=subprocess.STDOUT)\n",
    "        subcort_stdout,stderr = out_subcort.communicate()\n",
    "        df_subcort = subcort_stdout.decode(\"utf-8\")\n",
    "        print(\"what is subcort?\", type(df_subcort))\n",
    "        sub_list = df_subcort.replace('\\n',',').split(\",\")\n",
    "\n",
    "        # Add patient and sub_list to the dictionary\n",
    "        patient_data[patient] = sub_list\n",
    "\n",
    "        print(\"Processed:\", patient)\n",
    "\n",
    "# Now patient_data contains all the information\n",
    "print(patient_data)\n",
    "print(type(patient_data))\n"
   ]
  },
  {
   "cell_type": "code",
   "execution_count": 3,
   "metadata": {},
   "outputs": [
    {
     "ename": "KeyError",
     "evalue": "\"None of ['Patient'] are in the columns\"",
     "output_type": "error",
     "traceback": [
      "\u001b[0;31m---------------------------------------------------------------------------\u001b[0m",
      "\u001b[0;31mKeyError\u001b[0m                                  Traceback (most recent call last)",
      "Input \u001b[0;32mIn [3]\u001b[0m, in \u001b[0;36m<cell line: 9>\u001b[0;34m()\u001b[0m\n\u001b[1;32m      7\u001b[0m subcortical_df \u001b[38;5;241m=\u001b[39m pd\u001b[38;5;241m.\u001b[39mDataFrame(columns \u001b[38;5;241m=\u001b[39m [\u001b[38;5;124m\"\u001b[39m\u001b[38;5;124mPatient\u001b[39m\u001b[38;5;124m\"\u001b[39m, atlas])  \u001b[38;5;66;03m# Create an empty dataframe with the same columns as the atlas\u001b[39;00m\n\u001b[1;32m      8\u001b[0m \u001b[38;5;66;03m# subcortical_df = subcortical_df.drop(['Label']) # Add a row of NaNs to the dataframe\u001b[39;00m\n\u001b[0;32m----> 9\u001b[0m \u001b[43msubcortical_df\u001b[49m\u001b[38;5;241;43m.\u001b[39;49m\u001b[43mset_index\u001b[49m\u001b[43m(\u001b[49m\u001b[43m[\u001b[49m\u001b[38;5;124;43m'\u001b[39;49m\u001b[38;5;124;43mPatient\u001b[39;49m\u001b[38;5;124;43m'\u001b[39;49m\u001b[43m]\u001b[49m\u001b[43m)\u001b[49m\n\u001b[1;32m     11\u001b[0m sub_list \u001b[38;5;241m=\u001b[39m []\n\u001b[1;32m     12\u001b[0m patient_volumes \u001b[38;5;241m=\u001b[39m []\n",
      "File \u001b[0;32m~/.local/lib/python3.9/site-packages/pandas/util/_decorators.py:311\u001b[0m, in \u001b[0;36mdeprecate_nonkeyword_arguments.<locals>.decorate.<locals>.wrapper\u001b[0;34m(*args, **kwargs)\u001b[0m\n\u001b[1;32m    305\u001b[0m \u001b[38;5;28;01mif\u001b[39;00m \u001b[38;5;28mlen\u001b[39m(args) \u001b[38;5;241m>\u001b[39m num_allow_args:\n\u001b[1;32m    306\u001b[0m     warnings\u001b[38;5;241m.\u001b[39mwarn(\n\u001b[1;32m    307\u001b[0m         msg\u001b[38;5;241m.\u001b[39mformat(arguments\u001b[38;5;241m=\u001b[39marguments),\n\u001b[1;32m    308\u001b[0m         \u001b[38;5;167;01mFutureWarning\u001b[39;00m,\n\u001b[1;32m    309\u001b[0m         stacklevel\u001b[38;5;241m=\u001b[39mstacklevel,\n\u001b[1;32m    310\u001b[0m     )\n\u001b[0;32m--> 311\u001b[0m \u001b[38;5;28;01mreturn\u001b[39;00m \u001b[43mfunc\u001b[49m\u001b[43m(\u001b[49m\u001b[38;5;241;43m*\u001b[39;49m\u001b[43margs\u001b[49m\u001b[43m,\u001b[49m\u001b[43m \u001b[49m\u001b[38;5;241;43m*\u001b[39;49m\u001b[38;5;241;43m*\u001b[39;49m\u001b[43mkwargs\u001b[49m\u001b[43m)\u001b[49m\n",
      "File \u001b[0;32m~/.local/lib/python3.9/site-packages/pandas/core/frame.py:5500\u001b[0m, in \u001b[0;36mDataFrame.set_index\u001b[0;34m(self, keys, drop, append, inplace, verify_integrity)\u001b[0m\n\u001b[1;32m   5497\u001b[0m                 missing\u001b[38;5;241m.\u001b[39mappend(col)\n\u001b[1;32m   5499\u001b[0m \u001b[38;5;28;01mif\u001b[39;00m missing:\n\u001b[0;32m-> 5500\u001b[0m     \u001b[38;5;28;01mraise\u001b[39;00m \u001b[38;5;167;01mKeyError\u001b[39;00m(\u001b[38;5;124mf\u001b[39m\u001b[38;5;124m\"\u001b[39m\u001b[38;5;124mNone of \u001b[39m\u001b[38;5;132;01m{\u001b[39;00mmissing\u001b[38;5;132;01m}\u001b[39;00m\u001b[38;5;124m are in the columns\u001b[39m\u001b[38;5;124m\"\u001b[39m)\n\u001b[1;32m   5502\u001b[0m \u001b[38;5;28;01mif\u001b[39;00m inplace:\n\u001b[1;32m   5503\u001b[0m     frame \u001b[38;5;241m=\u001b[39m \u001b[38;5;28mself\u001b[39m\n",
      "\u001b[0;31mKeyError\u001b[0m: \"None of ['Patient'] are in the columns\""
     ]
    }
   ],
   "source": [
    "directory =  \"/mnt/md0/cads-phd/explainbrainROI/spr_mini_try_again\"\n",
    "\n",
    "atlas = '/mnt/md0/cads-phd/explainbrainROI/HarvardOxford_Subcortical.csv'\n",
    "atlas = pd.read_csv(atlas)\n",
    "atlas = atlas[\"Label\"]\n",
    "\n",
    "subcortical_df = pd.DataFrame(columns = atlas)  # Create an empty dataframe with the same columns as the atlas\n",
    "# subcortical_df = subcortical_df.drop(['Label']) # Add a row of NaNs to the dataframe\n",
    "subcortical_df.insert(0, \"Patient\", True)\n",
    "\n",
    "subcortical_df.set_index(['Patient'])\n",
    "# df.insert(2, \"Age\", [21, 23, 24, 21], True)\n",
    "sub_list = []\n",
    "patient_volumes = []\n",
    "for filename in os.listdir(directory):\n",
    "    if filename.endswith(\".anat\"):\n",
    "\n",
    "        # Subcortical FSL Stats Volume Extraction\n",
    "        print(filename+\"/Warps/subcort_HO_in_subj_t1_space.nii.gz\")\n",
    "        print(filename+\"/T1.nii.gz\")\n",
    "        patient = filename[:-5]\n",
    "        print(\"Patient:\", patient)\n",
    "        print(\"Subcortical FSL Stats Volume Extraction\")\n",
    "        out_subcort = sout = subprocess.Popen([\"fslstats\", \"-K\", directory+\"/\"+filename+\"/Warps/subcort_HO_in_subj_t1_space.nii.gz\", directory+\"/\"+filename+\"/T1.nii.gz\", \"-V\"], stdout=subprocess.PIPE, stderr=subprocess.STDOUT)\n",
    "        subcort_stdout,stderr = out_subcort.communicate()\n",
    "        df_subcort = subcort_stdout.decode(\"utf-8\")\n",
    "        print(\"what is subcort?\", type(df_subcort))\n",
    "        sub_list = df_subcort.replace('\\n',',').split(\",\")\n",
    "        # patient_volumes = []\n",
    "        for item in sub_list[:-1]:    # the last item is an empty string\n",
    "            # print(item)\n",
    "            print(item.split(' ', 1)[1].replace(' ', ''))\n",
    "            patient_volumes.append(item.split(' ', 1)[1].replace(' ', ''))\n",
    "        patient_volumes.insert(0, patient)\n",
    "        print(\"Patient Volumes:\", patient_volumes)\n",
    "\n",
    "        subcortical_df.loc[len(subcortical_df)] = patient_volumes\n",
    "\n",
    "        # volumes = []\n",
    "\n",
    "        # for item in sub_list[:-1]:\n",
    "        #     print(item.split(' ', 1)[1].replace(' ', ''))\n",
    "        #     volumes.append(item.split(' ', 1)[1].replace(' ', ''))\n",
    "        #         # sub_list.insert(0, patient)\n",
    "\n",
    "\n",
    "        print(\"NEW***************************************************************************************\")\n",
    "\n"
   ]
  },
  {
   "cell_type": "code",
   "execution_count": null,
   "metadata": {},
   "outputs": [],
   "source": [
    "subcortical_df\n",
    "# subcortical_df.to_csv(\"subcortical_volumes.csv\", index=False)"
   ]
  },
  {
   "cell_type": "code",
   "execution_count": 23,
   "metadata": {},
   "outputs": [
    {
     "name": "stdout",
     "output_type": "stream",
     "text": [
      "184809 184808.757660 \n",
      "377116 377115.505487 \n",
      "16803 16802.977966 \n",
      "6605 6604.991339 \n",
      "3647 3646.995218 \n",
      "4759 4758.993760 \n",
      "1643 1642.997846 \n",
      "22178 22177.970918 \n",
      "3722 3721.995119 \n",
      "1657 1656.997827 \n",
      "406 405.999468 \n",
      "184286 184285.758345 \n",
      "372971 372970.510922 \n",
      "11208 11207.985303 \n",
      "6118 6117.991977 \n",
      "3377 3376.995572 \n",
      "4848 4847.993643 \n",
      "1648 1647.997839 \n",
      "3209 3208.995792 \n",
      "1590 1589.997915 \n",
      "311 310.999592 \n",
      "\n"
     ]
    }
   ],
   "source": [
    "volumes = []\n",
    "for item in sub_list:\n",
    "    print(item)"
   ]
  },
  {
   "cell_type": "code",
   "execution_count": 17,
   "metadata": {},
   "outputs": [
    {
     "name": "stdout",
     "output_type": "stream",
     "text": [
      "184808.757660\n",
      "377115.505487\n",
      "16802.977966\n",
      "6604.991339\n",
      "3646.995218\n",
      "4758.993760\n",
      "1642.997846\n",
      "22177.970918\n",
      "3721.995119\n",
      "1656.997827\n",
      "405.999468\n",
      "184285.758345\n",
      "372970.510922\n",
      "11207.985303\n",
      "6117.991977\n",
      "3376.995572\n",
      "4847.993643\n",
      "1647.997839\n",
      "3208.995792\n",
      "1589.997915\n",
      "310.999592\n"
     ]
    },
    {
     "ename": "IndexError",
     "evalue": "list index out of range",
     "output_type": "error",
     "traceback": [
      "\u001b[0;31m---------------------------------------------------------------------------\u001b[0m",
      "\u001b[0;31mIndexError\u001b[0m                                Traceback (most recent call last)",
      "Input \u001b[0;32mIn [17]\u001b[0m, in \u001b[0;36m<cell line: 2>\u001b[0;34m()\u001b[0m\n\u001b[1;32m      1\u001b[0m volumes \u001b[38;5;241m=\u001b[39m []\n\u001b[1;32m      2\u001b[0m \u001b[38;5;28;01mfor\u001b[39;00m item \u001b[38;5;129;01min\u001b[39;00m sub_list:\n\u001b[0;32m----> 3\u001b[0m     \u001b[38;5;28mprint\u001b[39m(\u001b[43mitem\u001b[49m\u001b[38;5;241;43m.\u001b[39;49m\u001b[43msplit\u001b[49m\u001b[43m(\u001b[49m\u001b[38;5;124;43m'\u001b[39;49m\u001b[38;5;124;43m \u001b[39;49m\u001b[38;5;124;43m'\u001b[39;49m\u001b[43m,\u001b[49m\u001b[43m \u001b[49m\u001b[38;5;241;43m1\u001b[39;49m\u001b[43m)\u001b[49m\u001b[43m[\u001b[49m\u001b[38;5;241;43m1\u001b[39;49m\u001b[43m]\u001b[49m\u001b[38;5;241m.\u001b[39mreplace(\u001b[38;5;124m'\u001b[39m\u001b[38;5;124m \u001b[39m\u001b[38;5;124m'\u001b[39m, \u001b[38;5;124m'\u001b[39m\u001b[38;5;124m'\u001b[39m))\n\u001b[1;32m      4\u001b[0m     volumes\u001b[38;5;241m.\u001b[39mappend(item\u001b[38;5;241m.\u001b[39msplit(\u001b[38;5;124m'\u001b[39m\u001b[38;5;124m \u001b[39m\u001b[38;5;124m'\u001b[39m, \u001b[38;5;241m1\u001b[39m)[\u001b[38;5;241m1\u001b[39m]\u001b[38;5;241m.\u001b[39mreplace(\u001b[38;5;124m'\u001b[39m\u001b[38;5;124m \u001b[39m\u001b[38;5;124m'\u001b[39m, \u001b[38;5;124m'\u001b[39m\u001b[38;5;124m'\u001b[39m))\n",
      "\u001b[0;31mIndexError\u001b[0m: list index out of range"
     ]
    }
   ],
   "source": [
    "\n",
    "\n",
    "volumes = []\n",
    "for item in sub_list:\n",
    "    print(item.split(' ', 1)[1].replace(' ', ''))\n",
    "    volumes.append(item.split(' ', 1)[1].replace(' ', ''))"
   ]
  },
  {
   "cell_type": "code",
   "execution_count": 9,
   "metadata": {},
   "outputs": [
    {
     "ename": "AttributeError",
     "evalue": "'Series' object has no attribute 'columns'",
     "output_type": "error",
     "traceback": [
      "\u001b[0;31m---------------------------------------------------------------------------\u001b[0m",
      "\u001b[0;31mAttributeError\u001b[0m                            Traceback (most recent call last)",
      "Input \u001b[0;32mIn [9]\u001b[0m, in \u001b[0;36m<cell line: 1>\u001b[0;34m()\u001b[0m\n\u001b[0;32m----> 1\u001b[0m \u001b[43matlas\u001b[49m\u001b[38;5;241;43m.\u001b[39;49m\u001b[43mcolumns\u001b[49m\n",
      "File \u001b[0;32m~/.local/lib/python3.9/site-packages/pandas/core/generic.py:5575\u001b[0m, in \u001b[0;36mNDFrame.__getattr__\u001b[0;34m(self, name)\u001b[0m\n\u001b[1;32m   5568\u001b[0m \u001b[38;5;28;01mif\u001b[39;00m (\n\u001b[1;32m   5569\u001b[0m     name \u001b[38;5;129;01mnot\u001b[39;00m \u001b[38;5;129;01min\u001b[39;00m \u001b[38;5;28mself\u001b[39m\u001b[38;5;241m.\u001b[39m_internal_names_set\n\u001b[1;32m   5570\u001b[0m     \u001b[38;5;129;01mand\u001b[39;00m name \u001b[38;5;129;01mnot\u001b[39;00m \u001b[38;5;129;01min\u001b[39;00m \u001b[38;5;28mself\u001b[39m\u001b[38;5;241m.\u001b[39m_metadata\n\u001b[1;32m   5571\u001b[0m     \u001b[38;5;129;01mand\u001b[39;00m name \u001b[38;5;129;01mnot\u001b[39;00m \u001b[38;5;129;01min\u001b[39;00m \u001b[38;5;28mself\u001b[39m\u001b[38;5;241m.\u001b[39m_accessors\n\u001b[1;32m   5572\u001b[0m     \u001b[38;5;129;01mand\u001b[39;00m \u001b[38;5;28mself\u001b[39m\u001b[38;5;241m.\u001b[39m_info_axis\u001b[38;5;241m.\u001b[39m_can_hold_identifiers_and_holds_name(name)\n\u001b[1;32m   5573\u001b[0m ):\n\u001b[1;32m   5574\u001b[0m     \u001b[38;5;28;01mreturn\u001b[39;00m \u001b[38;5;28mself\u001b[39m[name]\n\u001b[0;32m-> 5575\u001b[0m \u001b[38;5;28;01mreturn\u001b[39;00m \u001b[38;5;28;43mobject\u001b[39;49m\u001b[38;5;241;43m.\u001b[39;49m\u001b[38;5;21;43m__getattribute__\u001b[39;49m\u001b[43m(\u001b[49m\u001b[38;5;28;43mself\u001b[39;49m\u001b[43m,\u001b[49m\u001b[43m \u001b[49m\u001b[43mname\u001b[49m\u001b[43m)\u001b[49m\n",
      "\u001b[0;31mAttributeError\u001b[0m: 'Series' object has no attribute 'columns'"
     ]
    }
   ],
   "source": []
  },
  {
   "cell_type": "code",
   "execution_count": 10,
   "metadata": {},
   "outputs": [
    {
     "data": {
      "text/html": [
       "<div>\n",
       "<style scoped>\n",
       "    .dataframe tbody tr th:only-of-type {\n",
       "        vertical-align: middle;\n",
       "    }\n",
       "\n",
       "    .dataframe tbody tr th {\n",
       "        vertical-align: top;\n",
       "    }\n",
       "\n",
       "    .dataframe thead th {\n",
       "        text-align: right;\n",
       "    }\n",
       "</style>\n",
       "<table border=\"1\" class=\"dataframe\">\n",
       "  <thead>\n",
       "    <tr style=\"text-align: right;\">\n",
       "      <th>Label</th>\n",
       "      <th>Left Cerebral White Matter</th>\n",
       "      <th>Left Cerebral Cortex</th>\n",
       "      <th>Left Lateral Ventricle</th>\n",
       "      <th>Left Thalamus</th>\n",
       "      <th>Left Caudate</th>\n",
       "      <th>Left Putamen</th>\n",
       "      <th>Left Pallidum</th>\n",
       "      <th>Brain-Stem</th>\n",
       "      <th>Left Hippocampus</th>\n",
       "      <th>Left Amygdala</th>\n",
       "      <th>...</th>\n",
       "      <th>Right Cerebral White Matter</th>\n",
       "      <th>Right Cerebral Cortex</th>\n",
       "      <th>Right Lateral Ventricle</th>\n",
       "      <th>Right Thalamus</th>\n",
       "      <th>Right Caudate</th>\n",
       "      <th>Right Putamen</th>\n",
       "      <th>Right Pallidum</th>\n",
       "      <th>Right Hippocampus</th>\n",
       "      <th>Right Amygdala</th>\n",
       "      <th>Right Accumbens</th>\n",
       "    </tr>\n",
       "  </thead>\n",
       "  <tbody>\n",
       "  </tbody>\n",
       "</table>\n",
       "<p>0 rows × 21 columns</p>\n",
       "</div>"
      ],
      "text/plain": [
       "Empty DataFrame\n",
       "Columns: [Left Cerebral White Matter, Left Cerebral Cortex , Left Lateral Ventricle, Left Thalamus, Left Caudate, Left Putamen, Left Pallidum, Brain-Stem, Left Hippocampus, Left Amygdala, Left Accumbens, Right Cerebral White Matter, Right Cerebral Cortex, Right Lateral Ventricle, Right Thalamus, Right Caudate, Right Putamen, Right Pallidum, Right Hippocampus, Right Amygdala, Right Accumbens]\n",
       "Index: []\n",
       "\n",
       "[0 rows x 21 columns]"
      ]
     },
     "execution_count": 10,
     "metadata": {},
     "output_type": "execute_result"
    }
   ],
   "source": [
    "subcortical_df"
   ]
  },
  {
   "cell_type": "code",
   "execution_count": null,
   "metadata": {},
   "outputs": [],
   "source": []
  }
 ],
 "metadata": {
  "kernelspec": {
   "display_name": "Python 3",
   "language": "python",
   "name": "python3"
  },
  "language_info": {
   "codemirror_mode": {
    "name": "ipython",
    "version": 3
   },
   "file_extension": ".py",
   "mimetype": "text/x-python",
   "name": "python",
   "nbconvert_exporter": "python",
   "pygments_lexer": "ipython3",
   "version": "3.9.5"
  }
 },
 "nbformat": 4,
 "nbformat_minor": 2
}
