{
 "cells": [
  {
   "cell_type": "code",
   "execution_count": 1,
   "metadata": {},
   "outputs": [
    {
     "name": "stdout",
     "output_type": "stream",
     "text": [
      "Shape of image sub-A00000541_ses-20100101_acq-mprage_run-02_T1w.nii: (192, 256, 256)\n",
      "Shape of image sub-A00000456_ses-20090101_acq-mprage_run-02_T1w.nii: (192, 256, 256)\n",
      "Shape of image sub-A00000838_ses-20100101_acq-mprage_run-01_T1w.nii: (192, 256, 256)\n",
      "Shape of image sub-A00000368_ses-20110101_acq-mprage_run-01_T1w.nii: (192, 256, 256)\n",
      "Shape of image sub-A00000909_ses-20110101_acq-mprage_run-02_T1w.nii: (192, 256, 256)\n",
      "Shape of image sub-A00000865_ses-20100101_acq-mprage_echo-01_T1w.nii: (192, 256, 256)\n",
      "Shape of image sub-A00000844_ses-20100101_acq-mprage_echo-01_T1w.nii: (192, 256, 256)\n"
     ]
    }
   ],
   "source": [
    "# pip install joblib\n",
    "# pip install nibabel \n",
    "# !pip install matplotlib\n",
    "# !pwd\n",
    "\n",
    "# !pip install scikit-image\n",
    "# !pip install plotly\n",
    "\n",
    "\n",
    "import os\n",
    "import nibabel as nib\n",
    "import numpy as np\n",
    "\n",
    "def load_images_from_folder(folder_path):\n",
    "    images = []\n",
    "    for filename in os.listdir(folder_path):\n",
    "        if filename.endswith(\".nii\") or filename.endswith(\".nii.gz\"): # Check for specific image file extensions\n",
    "            img_path = os.path.join(folder_path, filename)\n",
    "            img = nib.load(img_path)\n",
    "            img_data = img.get_fdata()\n",
    "            print(f\"Shape of image {filename}: {img_data.shape}\")\n",
    "            images.append(img_data)\n",
    "    return np.array(images)\n",
    "\n",
    "# Example usage:\n",
    "path = '/mnt/md0/cads-phd/explainbrainROI/spr_mini_try_again/'\n",
    "folder_path = path # Replace with the path to your folder\n",
    "loaded_images = load_images_from_folder(folder_path)"
   ]
  },
  {
   "cell_type": "code",
   "execution_count": null,
   "metadata": {},
   "outputs": [],
   "source": []
  },
  {
   "cell_type": "code",
   "execution_count": 2,
   "metadata": {},
   "outputs": [
    {
     "name": "stdout",
     "output_type": "stream",
     "text": [
      "(192, 256, 256)\n",
      "(192, 256, 256)\n",
      "(192, 256, 256)\n",
      "(192, 256, 256)\n",
      "(192, 256, 256)\n",
      "(192, 256, 256)\n",
      "(192, 256, 256)\n"
     ]
    }
   ],
   "source": [
    "for i in loaded_images:\n",
    "    print(i.shape)    "
   ]
  },
  {
   "cell_type": "code",
   "execution_count": 4,
   "metadata": {},
   "outputs": [
    {
     "name": "stdout",
     "output_type": "stream",
     "text": [
      "/mnt/md0/cads-phd/explainbrainROI\n"
     ]
    }
   ],
   "source": [
    "len(loaded_images)\n",
    "!pwd\n",
    "# /mnt/md0/cads-phd/explainbrainROI/spr_mini_try_again"
   ]
  },
  {
   "cell_type": "code",
   "execution_count": 5,
   "metadata": {},
   "outputs": [],
   "source": [
    "# !pip install tqdm"
   ]
  },
  {
   "cell_type": "code",
   "execution_count": null,
   "metadata": {},
   "outputs": [],
   "source": [
    "import subprocess\n",
    "import os\n",
    "import time\n",
    "import glob\n",
    "from joblib import Parallel, delayed\n",
    "\n",
    "\n",
    "directory = '/mnt/md0/cads-phd/For_SPR/mini_data' \n",
    "\n",
    "# Running FSL ANAT and getting FSL ANAT Folders \n",
    "\n",
    "# n_jobs  = -1 # Number of jobs to run in parallel. -1 means use all available processors.\n",
    "n_jobs = 10\n",
    "\n",
    "def process_anat_volumes(directory, n_jobs=6):\n",
    "    \"\"\"\n",
    "    Process anatomical volumes for files in a specified directory using parallel computing.\n",
    "\n",
    "    Parameters:\n",
    "    directory (str): The directory path where the files are located.\n",
    "    n_jobs (int): The number of jobs to run in parallel (default is 6).\n",
    "\n",
    "    Returns:\n",
    "    None\n",
    "\n",
    "    Example:\n",
    "    process_anat_volumes('/path/to/your/directory/', n_jobs=8)\n",
    "    \"\"\"\n",
    "    def anat_volumes(filename):\n",
    "        full_path = os.path.join(directory, filename)\n",
    "        return subprocess.run([\"fsl_anat\", \"-i\", full_path], capture_output=True)\n",
    "\n",
    "    Parallel(n_jobs=n_jobs)(delayed(anat_volumes)(filename) for filename in os.listdir(directory))\n",
    "\n",
    "process_anat_volumes(directory, n_jobs=n_jobs)\n",
    "\n",
    "\n"
   ]
  },
  {
   "cell_type": "code",
   "execution_count": null,
   "metadata": {},
   "outputs": [],
   "source": [
    "\n",
    "# upon running the above which is a function, it will return a subprocess.CompletedProcess object containing information about the completed process.\n",
    "# a folder with various files will be created in the directory where the function is run.  This folder will be named after the file that was processed and will contain the following files:\n",
    "#  the naming will be example_patient.nii.gz --> example_patient.anat\n",
    "\n"
   ]
  },
  {
   "cell_type": "code",
   "execution_count": 4,
   "metadata": {},
   "outputs": [],
   "source": [
    "# import subprocess\n",
    "# import os\n",
    "# import time\n",
    "# import glob\n",
    "# from joblib import Parallel, delayed\n",
    "\n",
    "# directory = '/mnt/md0/cads-phd/explainbrainROI/spr_mini_try_again/'\n",
    "\n",
    "# def invwarp(directory, ref_file, warp_file, out_file_name, verbose=False):\n",
    "#     \"\"\"\n",
    "#     Run the FSL command 'invwarp' to invert a non-linear warp field.\n",
    "\n",
    "#     Parameters:\n",
    "#     directory (str): The directory path where the files are located.\n",
    "#     ref_file (str): The reference file in the specified directory.\n",
    "#     warp_file (str): The warp file in the specified directory.\n",
    "#     out_file_name (str): The name of the output file.\n",
    "#     verbose (bool): If True, display verbose output (default is False).\n",
    "\n",
    "#     Returns:\n",
    "#     CompletedProcess: A subprocess.CompletedProcess object containing information about the completed process.\n",
    "\n",
    "#     Example:\n",
    "#     invwarp('/path/to/your/directory/', 'T1.nii.gz', 'T1_to_MNI_nonlin_field.nii.gz', 'std_subject_space', verbose=True)\n",
    "#     \"\"\"\n",
    "#     ref_path = f\"{directory}/{ref_file}\"\n",
    "#     warp_path = f\"{directory}/{warp_file}\"\n",
    "#     out_path = f\"{directory}/Warps/{out_file_name}\"\n",
    "#     verbose_arg = \"--verbose\" if verbose else \"\"\n",
    "\n",
    "#     return subprocess.run([\"invwarp\", f\"--ref={ref_path}\", f\"--warp={warp_path}\", f\"--out={out_path}\", verbose_arg], capture_output=True)\n",
    "\n",
    "\n",
    "# # For the Cortical Regions- pulling from FSL_Anat Folder \n",
    "\n",
    "\n",
    "\n",
    "# def applywarp_cort(directory, ref_file, in_file, warp_file, out_file_name, interp_method='nn'):\n",
    "#     \"\"\"\n",
    "#     Apply a warp to an input file and resample it to the space of a reference file.\n",
    "\n",
    "#     Parameters:\n",
    "#     directory (str): The directory path where the files are located.\n",
    "#     ref_file (str): The reference file in the specified directory.\n",
    "#     in_file (str): The input file to be warped.\n",
    "#     warp_file (str): The warp file in the specified directory.\n",
    "#     out_file_name (str): The name of the output file.\n",
    "#     interp_method (str): The interpolation method to be used (default is 'nn').\n",
    "\n",
    "#     Returns:\n",
    "#     CompletedProcess: A subprocess.CompletedProcess object containing information about the completed process.\n",
    "\n",
    "#     Example:\n",
    "#     applywarp_cort('/path/to/your/directory/', 'T1.nii.gz', 'HarvardOxford-cort-maxprob-thr50-2mm.nii.gz', 'std_subject_space.nii.gz', 'HO_in_subj_t1_space.nii.gz', interp_method='trilinear')\n",
    "#     \"\"\"\n",
    "#     ref_path = f\"{directory}/{ref_file}\"\n",
    "#     in_path = f\"/usr/local/fsl/data/atlases/HarvardOxford/{in_file}\"\n",
    "#     warp_path = f\"{directory}/Warps/{warp_file}\"\n",
    "#     out_path = f\"{directory}/Warps/{out_file_name}\"\n",
    "\n",
    "#     return subprocess.run([\"applywarp\", f\"--ref={ref_path}\", f\"--in={in_path}\", f\"--warp={warp_path}\", f\"--out={out_path}\", f\"--interp={interp_method}\"], capture_output=True)\n",
    "\n",
    "\n",
    "\n",
    "# def applywarp_subcort(directory, ref_file, in_file, warp_file, out_file_name, interp_method='nn'):\n",
    "#     \"\"\"\n",
    "#     Apply a warp to an input file and resample it to the space of a reference file.\n",
    "\n",
    "#     Parameters:\n",
    "#     directory (str): The directory path where the files are located.\n",
    "#     ref_file (str): The reference file in the specified directory.\n",
    "#     in_file (str): The input file to be warped.\n",
    "#     warp_file (str): The warp file in the specified directory.\n",
    "#     out_file_name (str): The name of the output file.\n",
    "#     interp_method (str): The interpolation method to be used (default is 'nn').\n",
    "\n",
    "#     Returns:\n",
    "#     CompletedProcess: A subprocess.CompletedProcess object containing information about the completed process.\n",
    "\n",
    "#     Example:\n",
    "#     applywarp_subcort('/path/to/your/directory/', 'T1.nii.gz', 'HarvardOxford-sub-maxprob-thr50-2mm.nii.gz', 'std_subject_space.nii.gz', 'subcort_HO_in_subj_t1_space.nii.gz', interp_method='trilinear')\n",
    "#     \"\"\"\n",
    "#     ref_path = f\"{directory}/{ref_file}\"\n",
    "#     in_path = f\"/usr/local/fsl/data/atlases/HarvardOxford/{in_file}\"\n",
    "#     warp_path = f\"{directory}/Warps/{warp_file}\"\n",
    "#     out_path = f\"{directory}/Warps/{out_file_name}\"\n",
    "\n",
    "#     return subprocess.run([\"applywarp\", f\"--ref={ref_path}\", f\"--in={in_path}\", f\"--warp={warp_path}\", f\"--out={out_path}\", f\"--interp={interp_method}\"], capture_output=True)\n",
    "\n",
    "\n",
    "# def apply_warps(path):\n",
    "#     \"\"\"\n",
    "#     Apply warps to specified files and save the results in the 'Warps' folder.\n",
    "\n",
    "#     Parameters:\n",
    "#     path (str): The directory path where the files are located.\n",
    "\n",
    "#     Returns:\n",
    "#     None\n",
    "\n",
    "#     Example:\n",
    "#     apply_warps('/path/to/your/directory/')\n",
    "#     \"\"\"\n",
    "#     folder = os.path.join(path, \"Warps\") \n",
    "#     if not os.path.exists(folder):\n",
    "#         os.mkdir(folder)\n",
    "\n",
    "#     invwarp(path)\n",
    "#     time.sleep(3)  # Sleep for 3 seconds to ensure completion before the next step\n",
    "#     applywarp_cort(path)\n",
    "#     applywarp_subcort(path)\n",
    "\n",
    "\n",
    "\n",
    "# def apply_warps_parallel(directory, n_jobs=6):\n",
    "#     \"\"\"\n",
    "#     Apply warps to files in a specified directory in parallel.\n",
    "\n",
    "#     Parameters:\n",
    "#     directory (str): The directory path where the files are located.\n",
    "#     n_jobs (int): The number of jobs to run in parallel (default is 6).\n",
    "\n",
    "#     Returns:\n",
    "#     None\n",
    "\n",
    "#     Example:\n",
    "#     apply_warps_parallel('/path/to/your/directory/', n_jobs=8)\n",
    "#     \"\"\"\n",
    "#     def apply_warps(path):\n",
    "#         folder = os.path.join(path, \"Warps\") \n",
    "#         if not os.path.exists(folder):\n",
    "#             os.mkdir(folder)\n",
    "\n",
    "#         invwarp(path)\n",
    "#         time.sleep(3)  # Sleep for 3 seconds to ensure completion before the next step\n",
    "#         applywarp_cort(path)\n",
    "#         applywarp_subcort(path)\n",
    "\n",
    "#     Parallel(n_jobs=n_jobs)(delayed(apply_warps)(file) for file in glob.glob(os.path.join(directory, '*.anat')))\n",
    "\n",
    "\n",
    "\n",
    "# apply_warps_parallel(directory, n_jobs=15)\n",
    "# #questions to be asked\n",
    "\n",
    "# # How long does this take for each image? \n",
    "# # How long does this take for all images?\n",
    "    \n",
    "# # What folders does this pull from?\n",
    "# # Do i need to move folders? \n",
    "\n",
    "# # What is the output?\n",
    "\n",
    "\n",
    "# # What function do I need to run to get a total output? \n"
   ]
  },
  {
   "cell_type": "code",
   "execution_count": 2,
   "metadata": {},
   "outputs": [
    {
     "data": {
      "text/plain": [
       "[None, None, None, None, None, None, None]"
      ]
     },
     "execution_count": 2,
     "metadata": {},
     "output_type": "execute_result"
    }
   ],
   "source": [
    "# import subprocess\n",
    "# import os\n",
    "# # import time\n",
    "# import glob\n",
    "# from joblib import Parallel, delayed\n",
    "\n",
    "\n",
    "\n",
    "# directory = '/mnt/md0/cads-phd/explainbrainROI/spr_mini_try_again/'  #to practice on how pipeline will run with multiple images \n",
    "\n",
    "# def invwarp(directory):\n",
    "#     return subprocess.run([\"invwarp\", \"--ref=\"+directory+\"/T1.nii.gz\", \"--warp=\"+directory+\"/T1_to_MNI_nonlin_field.nii.gz\", \"--out=\"+directory+\"/Warps/\"+\"std_subject_space\", \"--verbose\"], capture_output=True)\n",
    "\n",
    "\n",
    "# def applywarp_cort(directory):\n",
    "#     return subprocess.run([\"applywarp\",\"--ref=\"+directory+\"/T1.nii.gz\", \"--in=/usr/local/fsl/data/atlases/HarvardOxford/HarvardOxford-cort-maxprob-thr50-2mm.nii.gz\", \n",
    "#                \"--warp=\"+directory+\"/Warps/\"+\"std_subject_space.nii.gz\", \n",
    "#                \"--out=\"+directory+\"/Warps/\"+\"HO_in_subj_t1_space.nii.gz\",  \"--interp=nn\"], capture_output=True)\n",
    "\n",
    "# def applywarp_subcort(directory):\n",
    "#     return subprocess.run([\"applywarp\",\"--ref=\"+directory+\"/T1.nii.gz\", \"--in=/usr/local/fsl/data/atlases/HarvardOxford/HarvardOxford-sub-maxprob-thr50-2mm.nii.gz\", \n",
    "#                \"--warp=\"+directory+\"/Warps/\"+\"std_subject_space.nii.gz\", \n",
    "#                \"--out=\"+directory+\"/Warps/\"+\"subcort_HO_in_subj_t1_space.nii.gz\",  \"--interp=nn\"], capture_output=True)\n",
    "\n",
    "\n",
    "# def apply_warps(path):\n",
    "    \n",
    "#     folder = os.path.join(path, \"Warps\") \n",
    "#     if not os.path.exists(folder):\n",
    "#         os.mkdir(folder)\n",
    "\n",
    "#     invwarp(path)\n",
    "#     print(path + ' invwarp done')\n",
    "#     time.sleep(3)\n",
    "#     applywarp_cort(path)\n",
    "#     print(path + ' cort done')\n",
    "#     applywarp_subcort(path)\n",
    "#     print(path + ' subcort done')\n",
    "\n",
    "#     from joblib import Parallel, delayed\n",
    "# Parallel(n_jobs=10)(delayed(apply_warps)(file) for file in glob.glob(os.path.join(directory, '*.anat')))\n",
    "\n",
    "\n"
   ]
  },
  {
   "cell_type": "code",
   "execution_count": 1,
   "metadata": {},
   "outputs": [
    {
     "name": "stdout",
     "output_type": "stream",
     "text": [
      "/mnt/md0/cads-phd/explainbrainROI/run_dir/ca/sub-A00000909_ses-20110101_acq-mprage_run-02_T1w.anat\n"
     ]
    }
   ],
   "source": [
    "import subprocess\n",
    "import os\n",
    "import time\n",
    "import glob\n",
    "\n",
    "from joblib import Parallel, delayed\n",
    "\n",
    "\n",
    "# /mnt/md0/cads-phd/explainbrainROI/run_dir/ca/sub-A00000909_ses-20110101_acq-mprage_run-02_T1w.anat\n",
    "# directory = '/mnt/md0/cads-phd/explainbrainROI/spr_mini_try_again/'  #to practice on how pipeline will run with multiple images \n",
    "# /mnt/md0/cads-phd/explainbrainROI/run_dir/ca/sub-A00000909_ses-20110101_acq-mprage_run-02_T1w.anat\n",
    "directory = '/mnt/md0/cads-phd/explainbrainROI/run_dir/ca/sub-A00000909_ses-20110101_acq-mprage_run-02_T1w.anat'  #to practice on how pipeline will run with multiple images \n",
    "\n",
    "\n",
    "def invwarp(directory):\n",
    "    return subprocess.run([\"invwarp\", \"--ref=\"+directory+\"/T1.nii.gz\", \"--warp=\"+directory+\"/T1_to_MNI_nonlin_field.nii.gz\", \"--out=\"+directory+\"/Warps/\"+\"std_subject_space\", \"--verbose\"], capture_output=True)\n",
    "\n",
    "\n",
    "def applywarp_cort(directory):\n",
    "    return subprocess.run([\"applywarp\",\"--ref=\"+directory+\"/T1.nii.gz\", \"--in=/usr/local/fsl/data/atlases/HarvardOxford/HarvardOxford-cort-maxprob-thr50-2mm.nii.gz\", \n",
    "               \"--warp=\"+directory+\"/Warps/\"+\"std_subject_space.nii.gz\", \n",
    "               \"--out=\"+directory+\"/Warps/\"+\"HO_in_subj_t1_space.nii.gz\",  \"--interp=nn\"], capture_output=True)\n",
    "\n",
    "def applywarp_subcort(directory):\n",
    "    return subprocess.run([\"applywarp\",\"--ref=\"+directory+\"/T1.nii.gz\", \"--in=/usr/local/fsl/data/atlases/HarvardOxford/HarvardOxford-sub-maxprob-thr50-2mm.nii.gz\", \n",
    "               \"--warp=\"+directory+\"/Warps/\"+\"std_subject_space.nii.gz\", \n",
    "               \"--out=\"+directory+\"/Warps/\"+\"subcort_HO_in_subj_t1_space.nii.gz\",  \"--interp=nn\"], capture_output=True)\n",
    "\n",
    "\n",
    "def apply_warps(path):\n",
    "    \n",
    "    folder = os.path.join(path, \"Warps\") \n",
    "    print(path)\n",
    "    # if not os.path.exists(folder):\n",
    "    #     os.mkdir(folder)\n",
    "\n",
    "    invwarp(path)\n",
    "    print(path + ' invwarp done')\n",
    "    time.sleep(3)\n",
    "    applywarp_cort(path)\n",
    "    print(path + ' cort done')\n",
    "    applywarp_subcort(path)\n",
    "    print(path + ' subcort done')\n",
    "\n",
    "apply_warps(os.path.join(directory))\n",
    "\n",
    "#     from joblib import Parallel, delayed\n",
    "# Parallel(n_jobs=10)(delayed(apply_warps)(file) for file in glob.glob(os.path.join(directory, '*.anat')))\n",
    "\n",
    "\n"
   ]
  },
  {
   "cell_type": "code",
   "execution_count": 17,
   "metadata": {},
   "outputs": [
    {
     "name": "stdout",
     "output_type": "stream",
     "text": [
      "ls: cannot access 'directory': No such file or directory\n"
     ]
    }
   ],
   "source": [
    "ls -l directory"
   ]
  },
  {
   "cell_type": "code",
   "execution_count": 16,
   "metadata": {},
   "outputs": [
    {
     "name": "stdout",
     "output_type": "stream",
     "text": [
      "/mnt/md0/cads-phd/explainbrainROI/run_dir/ca/sub-A00000909_ses-20110101_acq-mprage_run-02_T1w.anat/T1.nii.gz\n"
     ]
    },
    {
     "data": {
      "text/plain": [
       "CompletedProcess(args=['invwarp', '--ref=/mnt/md0/cads-phd/explainbrainROI/run_dir/ca/sub-A00000909_ses-20110101_acq-mprage_run-02_T1w.anat/T1.nii.gz', '--warp=/mnt/md0/cads-phd/explainbrainROI/run_dir/ca/sub-A00000909_ses-20110101_acq-mprage_run-02_T1w.anat/T1_to_MNI_nonlin_field.nii.gz', '--out=/mnt/md0/cads-phd/explainbrainROI/run_dir/ca/sub-A00000909_ses-20110101_acq-mprage_run-02_T1w.anat/Warps/std_subject_space', '--verbose'], returncode=134, stdout=b'Reading input files\\nInverting field\\n\\x08\\x08\\x08\\x08\\x08\\x08\\x08\\x08\\x08\\x08Slice: 1\\x08\\x08\\x08\\x08\\x08\\x08\\x08\\x08\\x08\\x08Slice: 2\\x08\\x08\\x08\\x08\\x08\\x08\\x08\\x08\\x08\\x08Slice: 3\\x08\\x08\\x08\\x08\\x08\\x08\\x08\\x08\\x08\\x08Slice: 4\\x08\\x08\\x08\\x08\\x08\\x08\\x08\\x08\\x08\\x08Slice: 5\\x08\\x08\\x08\\x08\\x08\\x08\\x08\\x08\\x08\\x08Slice: 6\\x08\\x08\\x08\\x08\\x08\\x08\\x08\\x08\\x08\\x08Slice: 7\\x08\\x08\\x08\\x08\\x08\\x08\\x08\\x08\\x08\\x08Slice: 8\\x08\\x08\\x08\\x08\\x08\\x08\\x08\\x08\\x08\\x08Slice: 9\\x08\\x08\\x08\\x08\\x08\\x08\\x08\\x08\\x08\\x08Slice: 10\\x08\\x08\\x08\\x08\\x08\\x08\\x08\\x08\\x08\\x08Slice: 11\\x08\\x08\\x08\\x08\\x08\\x08\\x08\\x08\\x08\\x08Slice: 12\\x08\\x08\\x08\\x08\\x08\\x08\\x08\\x08\\x08\\x08Slice: 13\\x08\\x08\\x08\\x08\\x08\\x08\\x08\\x08\\x08\\x08Slice: 14\\x08\\x08\\x08\\x08\\x08\\x08\\x08\\x08\\x08\\x08Slice: 15\\x08\\x08\\x08\\x08\\x08\\x08\\x08\\x08\\x08\\x08Slice: 16\\x08\\x08\\x08\\x08\\x08\\x08\\x08\\x08\\x08\\x08Slice: 17\\x08\\x08\\x08\\x08\\x08\\x08\\x08\\x08\\x08\\x08Slice: 18\\x08\\x08\\x08\\x08\\x08\\x08\\x08\\x08\\x08\\x08Slice: 19\\x08\\x08\\x08\\x08\\x08\\x08\\x08\\x08\\x08\\x08Slice: 20\\x08\\x08\\x08\\x08\\x08\\x08\\x08\\x08\\x08\\x08Slice: 21\\x08\\x08\\x08\\x08\\x08\\x08\\x08\\x08\\x08\\x08Slice: 22\\x08\\x08\\x08\\x08\\x08\\x08\\x08\\x08\\x08\\x08Slice: 23\\x08\\x08\\x08\\x08\\x08\\x08\\x08\\x08\\x08\\x08Slice: 24\\x08\\x08\\x08\\x08\\x08\\x08\\x08\\x08\\x08\\x08Slice: 25\\x08\\x08\\x08\\x08\\x08\\x08\\x08\\x08\\x08\\x08Slice: 26\\x08\\x08\\x08\\x08\\x08\\x08\\x08\\x08\\x08\\x08Slice: 27\\x08\\x08\\x08\\x08\\x08\\x08\\x08\\x08\\x08\\x08Slice: 28\\x08\\x08\\x08\\x08\\x08\\x08\\x08\\x08\\x08\\x08Slice: 29\\x08\\x08\\x08\\x08\\x08\\x08\\x08\\x08\\x08\\x08Slice: 30\\x08\\x08\\x08\\x08\\x08\\x08\\x08\\x08\\x08\\x08Slice: 31\\x08\\x08\\x08\\x08\\x08\\x08\\x08\\x08\\x08\\x08Slice: 32\\x08\\x08\\x08\\x08\\x08\\x08\\x08\\x08\\x08\\x08Slice: 33\\x08\\x08\\x08\\x08\\x08\\x08\\x08\\x08\\x08\\x08Slice: 34\\x08\\x08\\x08\\x08\\x08\\x08\\x08\\x08\\x08\\x08Slice: 35\\x08\\x08\\x08\\x08\\x08\\x08\\x08\\x08\\x08\\x08Slice: 36\\x08\\x08\\x08\\x08\\x08\\x08\\x08\\x08\\x08\\x08Slice: 37\\x08\\x08\\x08\\x08\\x08\\x08\\x08\\x08\\x08\\x08Slice: 38\\x08\\x08\\x08\\x08\\x08\\x08\\x08\\x08\\x08\\x08Slice: 39\\x08\\x08\\x08\\x08\\x08\\x08\\x08\\x08\\x08\\x08Slice: 40\\x08\\x08\\x08\\x08\\x08\\x08\\x08\\x08\\x08\\x08Slice: 41\\x08\\x08\\x08\\x08\\x08\\x08\\x08\\x08\\x08\\x08Slice: 42\\x08\\x08\\x08\\x08\\x08\\x08\\x08\\x08\\x08\\x08Slice: 43\\x08\\x08\\x08\\x08\\x08\\x08\\x08\\x08\\x08\\x08Slice: 44\\x08\\x08\\x08\\x08\\x08\\x08\\x08\\x08\\x08\\x08Slice: 45\\x08\\x08\\x08\\x08\\x08\\x08\\x08\\x08\\x08\\x08Slice: 46\\x08\\x08\\x08\\x08\\x08\\x08\\x08\\x08\\x08\\x08Slice: 47\\x08\\x08\\x08\\x08\\x08\\x08\\x08\\x08\\x08\\x08Slice: 48\\x08\\x08\\x08\\x08\\x08\\x08\\x08\\x08\\x08\\x08Slice: 49\\x08\\x08\\x08\\x08\\x08\\x08\\x08\\x08\\x08\\x08Slice: 50\\x08\\x08\\x08\\x08\\x08\\x08\\x08\\x08\\x08\\x08Slice: 51\\x08\\x08\\x08\\x08\\x08\\x08\\x08\\x08\\x08\\x08Slice: 52\\x08\\x08\\x08\\x08\\x08\\x08\\x08\\x08\\x08\\x08Slice: 53\\x08\\x08\\x08\\x08\\x08\\x08\\x08\\x08\\x08\\x08Slice: 54\\x08\\x08\\x08\\x08\\x08\\x08\\x08\\x08\\x08\\x08Slice: 55\\x08\\x08\\x08\\x08\\x08\\x08\\x08\\x08\\x08\\x08Slice: 56\\x08\\x08\\x08\\x08\\x08\\x08\\x08\\x08\\x08\\x08Slice: 57\\x08\\x08\\x08\\x08\\x08\\x08\\x08\\x08\\x08\\x08Slice: 58\\x08\\x08\\x08\\x08\\x08\\x08\\x08\\x08\\x08\\x08Slice: 59\\x08\\x08\\x08\\x08\\x08\\x08\\x08\\x08\\x08\\x08Slice: 60\\x08\\x08\\x08\\x08\\x08\\x08\\x08\\x08\\x08\\x08Slice: 61\\x08\\x08\\x08\\x08\\x08\\x08\\x08\\x08\\x08\\x08Slice: 62\\x08\\x08\\x08\\x08\\x08\\x08\\x08\\x08\\x08\\x08Slice: 63\\x08\\x08\\x08\\x08\\x08\\x08\\x08\\x08\\x08\\x08Slice: 64\\x08\\x08\\x08\\x08\\x08\\x08\\x08\\x08\\x08\\x08Slice: 65\\x08\\x08\\x08\\x08\\x08\\x08\\x08\\x08\\x08\\x08Slice: 66\\x08\\x08\\x08\\x08\\x08\\x08\\x08\\x08\\x08\\x08Slice: 67\\x08\\x08\\x08\\x08\\x08\\x08\\x08\\x08\\x08\\x08Slice: 68\\x08\\x08\\x08\\x08\\x08\\x08\\x08\\x08\\x08\\x08Slice: 69\\x08\\x08\\x08\\x08\\x08\\x08\\x08\\x08\\x08\\x08Slice: 70\\x08\\x08\\x08\\x08\\x08\\x08\\x08\\x08\\x08\\x08Slice: 71\\x08\\x08\\x08\\x08\\x08\\x08\\x08\\x08\\x08\\x08Slice: 72\\x08\\x08\\x08\\x08\\x08\\x08\\x08\\x08\\x08\\x08Slice: 73\\x08\\x08\\x08\\x08\\x08\\x08\\x08\\x08\\x08\\x08Slice: 74\\x08\\x08\\x08\\x08\\x08\\x08\\x08\\x08\\x08\\x08Slice: 75\\x08\\x08\\x08\\x08\\x08\\x08\\x08\\x08\\x08\\x08Slice: 76\\x08\\x08\\x08\\x08\\x08\\x08\\x08\\x08\\x08\\x08Slice: 77\\x08\\x08\\x08\\x08\\x08\\x08\\x08\\x08\\x08\\x08Slice: 78\\x08\\x08\\x08\\x08\\x08\\x08\\x08\\x08\\x08\\x08Slice: 79\\x08\\x08\\x08\\x08\\x08\\x08\\x08\\x08\\x08\\x08Slice: 80\\x08\\x08\\x08\\x08\\x08\\x08\\x08\\x08\\x08\\x08Slice: 81\\x08\\x08\\x08\\x08\\x08\\x08\\x08\\x08\\x08\\x08Slice: 82\\x08\\x08\\x08\\x08\\x08\\x08\\x08\\x08\\x08\\x08Slice: 83\\x08\\x08\\x08\\x08\\x08\\x08\\x08\\x08\\x08\\x08Slice: 84\\x08\\x08\\x08\\x08\\x08\\x08\\x08\\x08\\x08\\x08Slice: 85\\x08\\x08\\x08\\x08\\x08\\x08\\x08\\x08\\x08\\x08Slice: 86\\x08\\x08\\x08\\x08\\x08\\x08\\x08\\x08\\x08\\x08Slice: 87\\x08\\x08\\x08\\x08\\x08\\x08\\x08\\x08\\x08\\x08Slice: 88\\x08\\x08\\x08\\x08\\x08\\x08\\x08\\x08\\x08\\x08Slice: 89\\x08\\x08\\x08\\x08\\x08\\x08\\x08\\x08\\x08\\x08Slice: 90\\x08\\x08\\x08\\x08\\x08\\x08\\x08\\x08\\x08\\x08Slice: 91\\x08\\x08\\x08\\x08\\x08\\x08\\x08\\x08\\x08\\x08Slice: 92\\x08\\x08\\x08\\x08\\x08\\x08\\x08\\x08\\x08\\x08Slice: 93\\x08\\x08\\x08\\x08\\x08\\x08\\x08\\x08\\x08\\x08Slice: 94\\x08\\x08\\x08\\x08\\x08\\x08\\x08\\x08\\x08\\x08Slice: 95\\x08\\x08\\x08\\x08\\x08\\x08\\x08\\x08\\x08\\x08Slice: 96\\x08\\x08\\x08\\x08\\x08\\x08\\x08\\x08\\x08\\x08Slice: 97\\x08\\x08\\x08\\x08\\x08\\x08\\x08\\x08\\x08\\x08Slice: 98\\x08\\x08\\x08\\x08\\x08\\x08\\x08\\x08\\x08\\x08Slice: 99\\x08\\x08\\x08\\x08\\x08\\x08\\x08\\x08\\x08\\x08Slice: 100\\x08\\x08\\x08\\x08\\x08\\x08\\x08\\x08\\x08\\x08Slice: 101\\x08\\x08\\x08\\x08\\x08\\x08\\x08\\x08\\x08\\x08Slice: 102\\x08\\x08\\x08\\x08\\x08\\x08\\x08\\x08\\x08\\x08Slice: 103\\x08\\x08\\x08\\x08\\x08\\x08\\x08\\x08\\x08\\x08Slice: 104\\x08\\x08\\x08\\x08\\x08\\x08\\x08\\x08\\x08\\x08Slice: 105\\x08\\x08\\x08\\x08\\x08\\x08\\x08\\x08\\x08\\x08Slice: 106\\x08\\x08\\x08\\x08\\x08\\x08\\x08\\x08\\x08\\x08Slice: 107\\x08\\x08\\x08\\x08\\x08\\x08\\x08\\x08\\x08\\x08Slice: 108\\x08\\x08\\x08\\x08\\x08\\x08\\x08\\x08\\x08\\x08Slice: 109\\x08\\x08\\x08\\x08\\x08\\x08\\x08\\x08\\x08\\x08Slice: 110\\x08\\x08\\x08\\x08\\x08\\x08\\x08\\x08\\x08\\x08Slice: 111\\x08\\x08\\x08\\x08\\x08\\x08\\x08\\x08\\x08\\x08Slice: 112\\x08\\x08\\x08\\x08\\x08\\x08\\x08\\x08\\x08\\x08Slice: 113\\x08\\x08\\x08\\x08\\x08\\x08\\x08\\x08\\x08\\x08Slice: 114\\x08\\x08\\x08\\x08\\x08\\x08\\x08\\x08\\x08\\x08Slice: 115\\x08\\x08\\x08\\x08\\x08\\x08\\x08\\x08\\x08\\x08Slice: 116\\x08\\x08\\x08\\x08\\x08\\x08\\x08\\x08\\x08\\x08Slice: 117\\x08\\x08\\x08\\x08\\x08\\x08\\x08\\x08\\x08\\x08Slice: 118\\x08\\x08\\x08\\x08\\x08\\x08\\x08\\x08\\x08\\x08Slice: 119\\x08\\x08\\x08\\x08\\x08\\x08\\x08\\x08\\x08\\x08Slice: 120\\x08\\x08\\x08\\x08\\x08\\x08\\x08\\x08\\x08\\x08Slice: 121\\x08\\x08\\x08\\x08\\x08\\x08\\x08\\x08\\x08\\x08Slice: 122\\x08\\x08\\x08\\x08\\x08\\x08\\x08\\x08\\x08\\x08Slice: 123\\x08\\x08\\x08\\x08\\x08\\x08\\x08\\x08\\x08\\x08Slice: 124\\x08\\x08\\x08\\x08\\x08\\x08\\x08\\x08\\x08\\x08Slice: 125\\x08\\x08\\x08\\x08\\x08\\x08\\x08\\x08\\x08\\x08Slice: 126\\x08\\x08\\x08\\x08\\x08\\x08\\x08\\x08\\x08\\x08Slice: 127\\x08\\x08\\x08\\x08\\x08\\x08\\x08\\x08\\x08\\x08Slice: 128\\x08\\x08\\x08\\x08\\x08\\x08\\x08\\x08\\x08\\x08Slice: 129\\x08\\x08\\x08\\x08\\x08\\x08\\x08\\x08\\x08\\x08Slice: 130\\x08\\x08\\x08\\x08\\x08\\x08\\x08\\x08\\x08\\x08Slice: 131\\x08\\x08\\x08\\x08\\x08\\x08\\x08\\x08\\x08\\x08Slice: 132\\x08\\x08\\x08\\x08\\x08\\x08\\x08\\x08\\x08\\x08Slice: 133\\x08\\x08\\x08\\x08\\x08\\x08\\x08\\x08\\x08\\x08Slice: 134\\x08\\x08\\x08\\x08\\x08\\x08\\x08\\x08\\x08\\x08Slice: 135\\x08\\x08\\x08\\x08\\x08\\x08\\x08\\x08\\x08\\x08Slice: 136\\x08\\x08\\x08\\x08\\x08\\x08\\x08\\x08\\x08\\x08Slice: 137\\x08\\x08\\x08\\x08\\x08\\x08\\x08\\x08\\x08\\x08Slice: 138\\x08\\x08\\x08\\x08\\x08\\x08\\x08\\x08\\x08\\x08Slice: 139\\x08\\x08\\x08\\x08\\x08\\x08\\x08\\x08\\x08\\x08Slice: 140\\x08\\x08\\x08\\x08\\x08\\x08\\x08\\x08\\x08\\x08Slice: 141\\x08\\x08\\x08\\x08\\x08\\x08\\x08\\x08\\x08\\x08Slice: 142\\x08\\x08\\x08\\x08\\x08\\x08\\x08\\x08\\x08\\x08Slice: 143\\x08\\x08\\x08\\x08\\x08\\x08\\x08\\x08\\x08\\x08Slice: 144\\x08\\x08\\x08\\x08\\x08\\x08\\x08\\x08\\x08\\x08Slice: 145\\x08\\x08\\x08\\x08\\x08\\x08\\x08\\x08\\x08\\x08Slice: 146\\x08\\x08\\x08\\x08\\x08\\x08\\x08\\x08\\x08\\x08Slice: 147\\x08\\x08\\x08\\x08\\x08\\x08\\x08\\x08\\x08\\x08Slice: 148\\x08\\x08\\x08\\x08\\x08\\x08\\x08\\x08\\x08\\x08Slice: 149\\x08\\x08\\x08\\x08\\x08\\x08\\x08\\x08\\x08\\x08Slice: 150\\x08\\x08\\x08\\x08\\x08\\x08\\x08\\x08\\x08\\x08Slice: 151\\x08\\x08\\x08\\x08\\x08\\x08\\x08\\x08\\x08\\x08Slice: 152\\x08\\x08\\x08\\x08\\x08\\x08\\x08\\x08\\x08\\x08Slice: 153\\x08\\x08\\x08\\x08\\x08\\x08\\x08\\x08\\x08\\x08Slice: 154\\x08\\x08\\x08\\x08\\x08\\x08\\x08\\x08\\x08\\x08Slice: 155\\x08\\x08\\x08\\x08\\x08\\x08\\x08\\x08\\x08\\x08Slice: 156\\x08\\x08\\x08\\x08\\x08\\x08\\x08\\x08\\x08\\x08Slice: 157\\x08\\x08\\x08\\x08\\x08\\x08\\x08\\x08\\x08\\x08Slice: 158\\x08\\x08\\x08\\x08\\x08\\x08\\x08\\x08\\x08\\x08Slice: 159\\x08\\x08\\x08\\x08\\x08\\x08\\x08\\x08\\x08\\x08Slice: 160\\x08\\x08\\x08\\x08\\x08\\x08\\x08\\x08\\x08\\x08Slice: 161\\x08\\x08\\x08\\x08\\x08\\x08\\x08\\x08\\x08\\x08Slice: 162\\x08\\x08\\x08\\x08\\x08\\x08\\x08\\x08\\x08\\x08Slice: 163\\x08\\x08\\x08\\x08\\x08\\x08\\x08\\x08\\x08\\x08Slice: 164\\x08\\x08\\x08\\x08\\x08\\x08\\x08\\x08\\x08\\x08Slice: 165\\x08\\x08\\x08\\x08\\x08\\x08\\x08\\x08\\x08\\x08Slice: 166\\x08\\x08\\x08\\x08\\x08\\x08\\x08\\x08\\x08\\x08Slice: 167\\x08\\x08\\x08\\x08\\x08\\x08\\x08\\x08\\x08\\x08Slice: 168\\x08\\x08\\x08\\x08\\x08\\x08\\x08\\x08\\x08\\x08Slice: 169\\x08\\x08\\x08\\x08\\x08\\x08\\x08\\x08\\x08\\x08Slice: 170\\nFudging values at edge of FOV\\nConstraining range of Jacobians in inverse field\\nSaving inverted field\\n', stderr=b\"terminate called after throwing an instance of 'NiftiIO::NiftiException'\\n  what():  Error: cant open file /mnt/md0/cads-phd/explainbrainROI/run_dir/ca/sub-A00000909_ses-20110101_acq-mprage_run-02_T1w.anat/Warps/std_subject_space.nii.gz\\nAborted (core dumped)\\n\")"
      ]
     },
     "execution_count": 16,
     "metadata": {},
     "output_type": "execute_result"
    }
   ],
   "source": [
    "def invwarp(directory):\n",
    "\n",
    "    print(directory+\"/T1.nii.gz\")\n",
    "    return subprocess.run([\"invwarp\", \"--ref=\"+directory+\"/T1.nii.gz\", \"--warp=\"+directory+\"/T1_to_MNI_nonlin_field.nii.gz\", \"--out=\"+directory+\"/Warps/\"+\"std_subject_space\", \"--verbose\"], capture_output=True)\n",
    "\n",
    "directory= '/mnt/md0/cads-phd/explainbrainROI/run_dir/ca/sub-A00000909_ses-20110101_acq-mprage_run-02_T1w.anat'\n",
    "\n",
    "invwarp(directory)"
   ]
  },
  {
   "cell_type": "code",
   "execution_count": null,
   "metadata": {},
   "outputs": [],
   "source": [
    "def applywarp_cort(directory):\n",
    "    return subprocess.run([\"applywarp\",\"--ref=\"+directory+\"/T1.nii.gz\", \"--in=/usr/local/fsl/data/atlases/HarvardOxford/HarvardOxford-cort-maxprob-thr50-2mm.nii.gz\", \n",
    "               \"--warp=\"+directory+\"/Warps/\"+\"std_subject_space.nii.gz\", \n",
    "               \"--out=\"+directory+\"/Warps/\"+\"HO_in_subj_t1_space.nii.gz\",  \"--interp=nn\"], capture_output=True)\n",
    "\n",
    "directory= '/mnt/md0/cads-phd/explainbrainROI/run_dir/ca/sub-A00000909_ses-20110101_acq-mprage_run-02_T1w.anat'\n",
    "\n",
    "applywarp_cort(directory)"
   ]
  },
  {
   "cell_type": "code",
   "execution_count": null,
   "metadata": {},
   "outputs": [],
   "source": [
    "def applywarp_subcort(directory):\n",
    "    return subprocess.run([\"applywarp\",\"--ref=\"+directory+\"/T1.nii.gz\", \"--in=/usr/local/fsl/data/atlases/HarvardOxford/HarvardOxford-sub-maxprob-thr50-2mm.nii.gz\", \n",
    "               \"--warp=\"+directory+\"/Warps/\"+\"std_subject_space.nii.gz\", \n",
    "               \"--out=\"+directory+\"/Warps/\"+\"subcort_HO_in_subj_t1_space.nii.gz\",  \"--interp=nn\"], capture_output=True)\n",
    "\n",
    "directory= '/mnt/md0/cads-phd/explainbrainROI/run_dir/ca/sub-A00000909_ses-20110101_acq-mprage_run-02_T1w.anat'\n",
    "\n",
    "invwarp(directory)"
   ]
  },
  {
   "cell_type": "code",
   "execution_count": 14,
   "metadata": {},
   "outputs": [
    {
     "name": "stdout",
     "output_type": "stream",
     "text": [
      "/mnt/md0/cads-phd/explainbrainROI/run_dir/ca/sub-A00000909_ses-20110101_acq-mprage_run-02_T1w.anat/Warps/std_subject_space.nii.gz\n"
     ]
    }
   ],
   "source": [
    "print(directory+\"/Warps/\"+\"std_subject_space.nii.gz\")"
   ]
  },
  {
   "cell_type": "code",
   "execution_count": null,
   "metadata": {},
   "outputs": [],
   "source": []
  },
  {
   "cell_type": "code",
   "execution_count": null,
   "metadata": {},
   "outputs": [],
   "source": []
  },
  {
   "cell_type": "code",
   "execution_count": 1,
   "metadata": {},
   "outputs": [],
   "source": [
    "# fslstats -K subcort_HO_in_subj_t1_space.nii.gz T1.nii.gz -M -V  # for the subcortical regions\n",
    "# fslstats -K HO_in_subj_t1_space.nii.gz T1.nii.gz -M -V  # for the cortical regions\n",
    "\n",
    "\n",
    "def get_vols(vol_files, label):\n",
    "    \n",
    "    patient = {}\n",
    "    \n",
    "    for file in vol_files:\n",
    "        \n",
    "        path = os.path.basename(file)\n",
    "        \n",
    "        label_vals = [10, 11, 12, 13, 16, 17, 18, 26, 49, 50, 51, 52, 53, 54, 58]\n",
    "        length = len(label_vals)\n",
    "\n",
    "        vols = {}\n",
    "        \n",
    "        \n",
    "        for i in label_vals:\n",
    "            out = sout = subprocess.Popen([\"fslstats\", file, \"-l\", str((i+0.5)-1), \"-u\", str(i+0.5), \"-V\"], \n",
    "                   stdout=subprocess.PIPE, \n",
    "                   stderr=subprocess.STDOUT)\n",
    "            stdout,stderr = out.communicate()\n",
    "            vols[\"LABEL\"] = label\n",
    "            vols[str(i)] = [float(str(stdout.split()[0])[2:-1]), float(str(stdout.split()[1])[2:-1])]\n",
    "\n",
    "        patient[path[:-29]] = vols\n",
    "    \n",
    "    return patient"
   ]
  },
  {
   "cell_type": "code",
   "execution_count": null,
   "metadata": {},
   "outputs": [],
   "source": [
    "# fslstats -K subcort_HO_in_subj_t1_space.nii.gz T1.nii.gz -M -V  # for the subcortical regions\n",
    "# fslstats -K HO_in_subj_t1_space.nii.gz T1.nii.gz -M -V  # for the cortical regions\n",
    "\n",
    "# I need to\n",
    "# 1. feed in the parent directory\n",
    "# 2. feed in the label for each file and where the file is located\n",
    "# 3. apply fslstats for cort and applywarp_subcort\n",
    "# 4. collect the outputs and feed into dictionary\n",
    "    \n",
    "\n",
    "\n",
    "\n",
    "def getVol_Dataframe(directory):\n",
    "\n",
    "    brain_volumes = pd.DataFrame()\n",
    "\n",
    "    for file in glob.glob(os.path.join(directory)):\n",
    "\n",
    "        path = os.path.basename(file)\n",
    "\n",
    "        print(file)\n",
    "\n",
    "        # vols = {}\n",
    "\n",
    "        # for i in label_vals:\n",
    "        #     print(i)\n",
    "        #     out_cort = sout = subprocess.Popen([\"fslstats\", \"-K\", \"./Warps/HO_in_subj_t1_space.nii.gz\", \"T1.nii.gz\", \"-V\"], stdout=subprocess.PIPE, stderr=subprocess.STDOUT)\n",
    "        #     stdout,stderr = out.communicate()\n",
    "        #     out_subcort = sout = subprocess.Popen([\"fslstats\", \"-K\", \"./Warps/subcort_HO_in_subj_t1_space.nii.gz\", \"T1.nii.gz\", \"-V\"], stdout=subprocess.PIPE, stderr=subprocess.STDOUT)\n",
    "        #     stdout,stderr = out.communicate()\n",
    "\n",
    "        #     vols[\"LABEL\"] = label\n",
    "        #     vols[str(i)] = [float(str(stdout.split()[0])[2:-1]), float(str(stdout.split()[1])[2:-1])]\n",
    "\n",
    "        # patient[path[:-29]] = vols"
   ]
  },
  {
   "cell_type": "code",
   "execution_count": 24,
   "metadata": {},
   "outputs": [
    {
     "data": {
      "text/plain": [
       "'/mnt/md0/cads-phd/explainbrainROI'"
      ]
     },
     "execution_count": 24,
     "metadata": {},
     "output_type": "execute_result"
    }
   ],
   "source": [
    "pwd"
   ]
  },
  {
   "cell_type": "code",
   "execution_count": 3,
   "metadata": {},
   "outputs": [
    {
     "name": "stdout",
     "output_type": "stream",
     "text": [
      "Full Path: /mnt/md0/cads-phd/explainbrainROI/spr_mini_try_again/\n",
      "Filename: \n"
     ]
    }
   ],
   "source": [
    "import subprocess\n",
    "import os\n",
    "import time\n",
    "import glob\n",
    "from joblib import Parallel, delayed\n",
    "\n",
    "\n",
    "\n",
    "directory = '/mnt/md0/cads-phd/explainbrainROI/spr_mini_try_again/'  #to practice on how pipeline will run with multiple images \n",
    "\n",
    "\n",
    "# for file in vol_files:\n",
    "    \n",
    "#     path = os.path.basename(file)\n",
    "\n",
    "# directory = '/path/to/your/directory/*'  # Replace with your directory path\n",
    "\n",
    "for file in glob.glob(directory):\n",
    "    print(f\"Full Path: {file}\")\n",
    "    \n",
    "    filename = os.path.basename(file)\n",
    "    print(f\"Filename: {filename}\")"
   ]
  },
  {
   "cell_type": "code",
   "execution_count": 3,
   "metadata": {},
   "outputs": [
    {
     "name": "stdout",
     "output_type": "stream",
     "text": [
      "sub-A00000844_ses-20100101_acq-mprage_echo-01_T1w.anat/Warps/HO_in_subj_t1_space.nii.gz\n",
      "sub-A00000844_ses-20100101_acq-mprage_echo-01_T1w.anat/T1.nii.gz\n",
      "Cortical FSL Stats Volume Extraction\n",
      "b'66547 66546.670780 \\n7923 7922.960803 \\n9000 8999.955475 \\n11364 11363.943780 \\n1713 1712.991525 \\n3463 3462.982868 \\n13793 13792.931763 \\n18981 18980.906097 \\n598 597.997042 \\n4517 4516.977654 \\n1329 1328.993425 \\n4473 4472.977871 \\n4182 4181.979311 \\n1369 1368.993227 \\n2490 2489.987682 \\n3018 3017.985069 \\n12625 12624.937542 \\n5685 5684.971875 \\n3518 3517.982596 \\n2818 2817.986059 \\n5530 5529.972642 \\n37560 37559.814184 \\n11491 11490.943152 \\n2566 2565.987306 \\n2848 2847.985910 \\n6331 6330.968679 \\n6762 6761.966547 \\n13346 13345.933975 \\n10235 10234.949366 \\n8551 8550.957697 \\n22142 22141.890459 \\n1866 1865.990769 \\n13134 13133.935024 \\n3899 3898.980711 \\n1873 1872.990734 \\n9964 9963.950706 \\n1145 1144.994335 \\n4487 4486.977802 \\n4550 4549.977490 \\n4415 4414.978158 \\n1524 1523.992460 \\n7060 7059.965073 \\n3088 3087.984723 \\n1759 1758.991298 \\n1028 1027.994914 \\n1540 1539.992381 \\n91 90.999550 \\n12082 12081.940228 \\n'\n",
      "NEW***************************************************************************************\n",
      "sub-A00000844_ses-20100101_acq-mprage_echo-01_T1w.anat/Warps/subcort_HO_in_subj_t1_space.nii.gz\n",
      "sub-A00000844_ses-20100101_acq-mprage_echo-01_T1w.anat/T1.nii.gz\n",
      "Subcortical FSL Stats Volume Extraction\n",
      "b'193066 193065.044867 \\n394250 394248.049572 \\n5723 5722.971687 \\n7478 7477.963005 \\n2915 2914.985579 \\n4709 4708.976704 \\n1797 1796.991110 \\n23082 23081.885809 \\n3352 3351.983417 \\n1652 1651.991827 \\n531 530.997373 \\n199392 199391.013571 \\n398207 398205.029996 \\n5290 5289.973829 \\n7474 7473.963025 \\n2818 2817.986059 \\n4949 4948.975516 \\n1893 1892.990635 \\n3714 3713.981626 \\n1999 1998.990111 \\n452 451.997764 \\n'\n",
      "NEW***************************************************************************************\n",
      "sub-A00000838_ses-20100101_acq-mprage_run-01_T1w.anat/Warps/HO_in_subj_t1_space.nii.gz\n",
      "sub-A00000838_ses-20100101_acq-mprage_run-01_T1w.anat/T1.nii.gz\n",
      "Cortical FSL Stats Volume Extraction\n",
      "b'70438 70438.226715 \\n8183 8183.026338 \\n9274 9274.029850 \\n11982 11982.038566 \\n1805 1805.005810 \\n3546 3546.011413 \\n14523 14523.046744 \\n19284 19284.062068 \\n636 636.002047 \\n4742 4742.015263 \\n1404 1404.004519 \\n4519 4519.014545 \\n4449 4449.014320 \\n1467 1467.004722 \\n3013 3013.009698 \\n3419 3419.011005 \\n13053 13053.042013 \\n5823 5823.018742 \\n3593 3593.011565 \\n2907 2907.009357 \\n5765 5765.018556 \\n38071 38071.122537 \\n11406 11406.036712 \\n2543 2543.008185 \\n2861 2861.009209 \\n6453 6453.020770 \\n6644 6644.021385 \\n13443 13443.043268 \\n10202 10202.032837 \\n8821 8821.028392 \\n22260 22260.071647 \\n1818 1818.005852 \\n13832 13832.044520 \\n3728 3728.011999 \\n1864 1864.006000 \\n10200 10200.032830 \\n1197 1197.003853 \\n4456 4456.014342 \\n4234 4234.013628 \\n4046 4046.013023 \\n1592 1592.005124 \\n7054 7054.022704 \\n2886 2886.009289 \\n1761 1761.005668 \\n974 974.003135 \\n1415 1415.004554 \\n103 103.000332 \\n12613 12613.040597 \\n'\n",
      "NEW***************************************************************************************\n",
      "sub-A00000838_ses-20100101_acq-mprage_run-01_T1w.anat/Warps/subcort_HO_in_subj_t1_space.nii.gz\n",
      "sub-A00000838_ses-20100101_acq-mprage_run-01_T1w.anat/T1.nii.gz\n",
      "Subcortical FSL Stats Volume Extraction\n",
      "b'186344 186344.599776 \\n404816 404817.302961 \\n5840 5840.018797 \\n7807 7807.025128 \\n2969 2969.009556 \\n4763 4763.015330 \\n1712 1712.005510 \\n23487 23487.075596 \\n3398 3398.010937 \\n1701 1701.005475 \\n541 541.001741 \\n190394 190394.612812 \\n407154 407155.310487 \\n5245 5245.016882 \\n7678 7678.024713 \\n2915 2915.009382 \\n5031 5031.016193 \\n1880 1880.006051 \\n3728 3728.011999 \\n2126 2126.006843 \\n436 436.001403 \\n'\n",
      "NEW***************************************************************************************\n",
      "sub-A00000909_ses-20110101_acq-mprage_run-02_T1w.anat/Warps/HO_in_subj_t1_space.nii.gz\n",
      "sub-A00000909_ses-20110101_acq-mprage_run-02_T1w.anat/T1.nii.gz\n",
      "Cortical FSL Stats Volume Extraction\n",
      "b'30911 30910.948412 \\n8220 8219.986281 \\n8197 8196.986320 \\n8971 8970.985028 \\n562 561.999062 \\n1362 1361.997727 \\n15631 15630.973913 \\n16442 16441.972559 \\n703 702.998827 \\n3456 3455.994232 \\n1304 1303.997824 \\n5945 5944.990078 \\n4181 4180.993022 \\n1595 1594.997338 \\n3165 3164.994718 \\n3066 3065.994883 \\n15899 15898.973466 \\n5061 5060.991554 \\n3530 3529.994109 \\n3427 3426.994281 \\n5574 5573.990697 \\n45772 45771.923610 \\n14468 14467.975854 \\n2992 2991.995007 \\n2799 2798.995329 \\n5214 5213.991298 \\n3592 3591.994005 \\n9790 9789.983661 \\n12733 12732.978750 \\n6582 6581.989015 \\n22432 22431.962563 \\n2271 2270.996210 \\n12844 12843.978564 \\n3454 3453.994236 \\n2252 2251.996242 \\n8416 8415.985954 \\n696 695.998838 \\n4265 4264.992882 \\n3497 3496.994164 \\n3263 3262.994554 \\n1202 1201.997994 \\n5580 5579.990687 \\n2696 2695.995501 \\n2112 2111.996475 \\n1176 1175.998037 \\n1379 1378.997699 \\n154 153.999743 \\n15973 15972.973342 \\n'\n",
      "NEW***************************************************************************************\n",
      "sub-A00000909_ses-20110101_acq-mprage_run-02_T1w.anat/Warps/subcort_HO_in_subj_t1_space.nii.gz\n",
      "sub-A00000909_ses-20110101_acq-mprage_run-02_T1w.anat/T1.nii.gz\n",
      "Subcortical FSL Stats Volume Extraction\n",
      "b'209078 209077.651063 \\n361426 361425.396805 \\n8586 8585.985671 \\n5952 5951.990067 \\n5307 5306.991143 \\n5382 5381.991018 \\n1745 1744.997088 \\n25310 25309.957759 \\n4020 4019.993291 \\n2322 2321.996125 \\n448 447.999252 \\n201107 201106.664366 \\n382340 382339.361901 \\n7274 7273.987860 \\n6036 6035.989926 \\n5320 5319.991121 \\n5501 5500.990819 \\n1548 1547.997416 \\n4030 4029.993274 \\n2562 2561.995724 \\n320 319.999466 \\n'\n",
      "NEW***************************************************************************************\n",
      "sub-A00000368_ses-20110101_acq-mprage_run-01_T1w.anat/Warps/HO_in_subj_t1_space.nii.gz\n",
      "sub-A00000368_ses-20110101_acq-mprage_run-01_T1w.anat/T1.nii.gz\n",
      "Cortical FSL Stats Volume Extraction\n",
      "b'34463 34463.032866 \\n11378 11378.010851 \\n7994 7994.007624 \\n13279 13279.012664 \\n847 847.000808 \\n3034 3034.002893 \\n17479 17479.016669 \\n10948 10948.010441 \\n532 532.000507 \\n3777 3777.003602 \\n996 996.000950 \\n6049 6049.005769 \\n4345 4345.004144 \\n1000 1000.000954 \\n2698 2698.002573 \\n4330 4330.004129 \\n14784 14784.014099 \\n4584 4584.004372 \\n3629 3629.003461 \\n3045 3045.002904 \\n4559 4559.004348 \\n38316 38316.036541 \\n12179 12179.011615 \\n2743 2743.002616 \\n911 911.000869 \\n7127 7127.006797 \\n1230 1230.001173 \\n9885 9885.009427 \\n10491 10491.010005 \\n7367 7367.007026 \\n18015 18015.017180 \\n2188 2188.002087 \\n4210 4210.004015 \\n2992 2992.002853 \\n1724 1724.001644 \\n9415 9415.008979 \\n496 496.000473 \\n3856 3856.003677 \\n2818 2818.002687 \\n2541 2541.002423 \\n1616 1616.001541 \\n8671 8671.008269 \\n2551 2551.002433 \\n2871 2871.002738 \\n1082 1082.001032 \\n1289 1289.001229 \\n134 134.000128 \\n14742 14742.014059 \\n'\n",
      "NEW***************************************************************************************\n",
      "sub-A00000368_ses-20110101_acq-mprage_run-01_T1w.anat/Warps/subcort_HO_in_subj_t1_space.nii.gz\n",
      "sub-A00000368_ses-20110101_acq-mprage_run-01_T1w.anat/T1.nii.gz\n",
      "Subcortical FSL Stats Volume Extraction\n",
      "b'157016 157016.149742 \\n346764 346764.330700 \\n6727 6727.006415 \\n5333 5333.005086 \\n3685 3685.003514 \\n5652 5652.005390 \\n1432 1432.001366 \\n22943 22943.021880 \\n2890 2890.002756 \\n1667 1667.001590 \\n294 294.000280 \\n165066 165066.157419 \\n350031 350031.333816 \\n7876 7876.007511 \\n5401 5401.005151 \\n3731 3731.003558 \\n4812 4812.004589 \\n1343 1343.001281 \\n3663 3663.003493 \\n1855 1855.001769 \\n255 255.000243 \\n'\n",
      "NEW***************************************************************************************\n",
      "sub-A00000541_ses-20100101_acq-mprage_run-02_T1w.anat/Warps/HO_in_subj_t1_space.nii.gz\n",
      "sub-A00000541_ses-20100101_acq-mprage_run-02_T1w.anat/T1.nii.gz\n",
      "Cortical FSL Stats Volume Extraction\n",
      "b'41386 41386.004934 \\n5243 5243.000625 \\n6932 6932.000826 \\n5985 5985.000713 \\n1251 1251.000149 \\n2521 2521.000301 \\n9497 9497.001132 \\n12289 12289.001465 \\n407 407.000049 \\n2898 2898.000345 \\n951 951.000113 \\n5302 5302.000632 \\n3093 3093.000369 \\n751 751.000090 \\n1916 1916.000228 \\n2333 2333.000278 \\n13611 13611.001623 \\n6468 6468.000771 \\n3017 3017.000360 \\n3044 3044.000363 \\n3671 3671.000438 \\n22922 22922.002733 \\n7735 7735.000922 \\n1770 1770.000211 \\n3321 3321.000396 \\n5035 5035.000600 \\n2847 2847.000339 \\n7547 7547.000900 \\n4266 4266.000509 \\n5988 5988.000714 \\n13246 13246.001579 \\n1532 1532.000183 \\n8561 8561.001021 \\n2389 2389.000285 \\n1863 1863.000222 \\n6876 6876.000820 \\n503 503.000060 \\n3130 3130.000373 \\n2096 2096.000250 \\n2033 2033.000242 \\n1274 1274.000152 \\n4380 4380.000522 \\n1324 1324.000158 \\n904 904.000108 \\n514 514.000061 \\n697 697.000083 \\n59 59.000007 \\n11431 11431.001363 \\n'\n",
      "NEW***************************************************************************************\n",
      "sub-A00000541_ses-20100101_acq-mprage_run-02_T1w.anat/Warps/subcort_HO_in_subj_t1_space.nii.gz\n",
      "sub-A00000541_ses-20100101_acq-mprage_run-02_T1w.anat/T1.nii.gz\n",
      "Subcortical FSL Stats Volume Extraction\n",
      "b'117664 117664.014027 \\n274227 274227.032690 \\n5370 5370.000640 \\n5470 5470.000652 \\n1924 1924.000229 \\n3470 3470.000414 \\n1158 1158.000138 \\n19845 19845.002366 \\n2294 2294.000273 \\n924 924.000110 \\n224 224.000027 \\n121377 121377.014469 \\n268507 268507.032009 \\n4787 4787.000571 \\n5441 5441.000649 \\n1994 1994.000238 \\n3380 3380.000403 \\n1277 1277.000152 \\n2469 2469.000294 \\n1067 1067.000127 \\n219 219.000026 \\n'\n",
      "NEW***************************************************************************************\n",
      "sub-A00000456_ses-20090101_acq-mprage_run-02_T1w.anat/Warps/HO_in_subj_t1_space.nii.gz\n",
      "sub-A00000456_ses-20090101_acq-mprage_run-02_T1w.anat/T1.nii.gz\n",
      "Cortical FSL Stats Volume Extraction\n",
      "b'46933 46933.285337 \\n7628 7628.046376 \\n6509 6509.039573 \\n9965 9965.060584 \\n1060 1060.006444 \\n2995 2995.018209 \\n15848 15848.096351 \\n15910 15910.096728 \\n742 742.004511 \\n3442 3442.020926 \\n1509 1509.009174 \\n5175 5175.031462 \\n2852 2852.017339 \\n873 873.005308 \\n2077 2077.012627 \\n2972 2972.018069 \\n15137 15137.092028 \\n5873 5873.035706 \\n3135 3135.019060 \\n2645 2645.016081 \\n4260 4260.025899 \\n35534 35534.216035 \\n12361 12361.075151 \\n2951 2951.017941 \\n2859 2859.017382 \\n4611 4611.028033 \\n4256 4256.025875 \\n9499 9499.057751 \\n8144 8144.049513 \\n7057 7057.042904 \\n17977 17977.109294 \\n2323 2323.014123 \\n10240 10240.062256 \\n3970 3970.024136 \\n1825 1825.011095 \\n9692 9692.058924 \\n842 842.005119 \\n3259 3259.019814 \\n2886 2886.017546 \\n3129 3129.019023 \\n1518 1518.009229 \\n7280 7280.044260 \\n2115 2115.012859 \\n1867 1867.011351 \\n914 914.005557 \\n1055 1055.006414 \\n144 144.000875 \\n13825 13825.084051 \\n'\n",
      "NEW***************************************************************************************\n",
      "sub-A00000456_ses-20090101_acq-mprage_run-02_T1w.anat/Warps/subcort_HO_in_subj_t1_space.nii.gz\n",
      "sub-A00000456_ses-20090101_acq-mprage_run-02_T1w.anat/T1.nii.gz\n",
      "Subcortical FSL Stats Volume Extraction\n",
      "b'161196 161196.980019 \\n342420 342422.081802 \\n7401 7401.044996 \\n6192 6192.037645 \\n2315 2315.014074 \\n3860 3860.023468 \\n1530 1530.009302 \\n25591 25591.155585 \\n3059 3059.018598 \\n1378 1378.008378 \\n395 395.002401 \\n160715 160715.977095 \\n346953 346955.109361 \\n7492 7492.045549 \\n6155 6155.037420 \\n2546 2546.015479 \\n3954 3954.024039 \\n1412 1412.008584 \\n3139 3139.019084 \\n1614 1614.009813 \\n328 328.001994 \\n'\n",
      "NEW***************************************************************************************\n",
      "sub-A00000865_ses-20100101_acq-mprage_echo-01_T1w.anat/Warps/HO_in_subj_t1_space.nii.gz\n",
      "sub-A00000865_ses-20100101_acq-mprage_echo-01_T1w.anat/T1.nii.gz\n",
      "Cortical FSL Stats Volume Extraction\n",
      "b'62465 62464.918090 \\n7455 7454.990224 \\n9017 9016.988176 \\n8794 8793.988468 \\n1363 1362.998213 \\n2547 2546.996660 \\n12677 12676.983377 \\n20008 20007.973763 \\n586 585.999232 \\n3991 3990.994767 \\n1458 1457.998088 \\n7655 7654.989962 \\n4434 4433.994186 \\n1355 1354.998223 \\n3107 3106.995926 \\n2892 2891.996208 \\n14503 14502.980982 \\n6177 6176.991900 \\n3832 3831.994975 \\n3530 3529.995371 \\n4607 4606.993959 \\n36426 36425.952235 \\n12141 12140.984079 \\n3385 3384.995561 \\n3982 3981.994778 \\n5482 5481.992811 \\n3921 3920.994858 \\n10787 10786.985855 \\n6936 6935.990905 \\n6374 6373.991642 \\n19644 19643.974241 \\n2847 2846.996267 \\n10469 10468.986272 \\n4183 4182.994515 \\n1433 1432.998121 \\n10656 10655.986027 \\n1858 1857.997564 \\n3553 3552.995341 \\n3536 3535.995363 \\n3484 3483.995431 \\n1325 1324.998263 \\n5969 5968.992173 \\n2194 2193.997123 \\n1694 1693.997779 \\n977 976.998719 \\n1116 1115.998537 \\n154 153.999798 \\n15364 15363.979853 \\n'\n",
      "NEW***************************************************************************************\n",
      "sub-A00000865_ses-20100101_acq-mprage_echo-01_T1w.anat/Warps/subcort_HO_in_subj_t1_space.nii.gz\n",
      "sub-A00000865_ses-20100101_acq-mprage_echo-01_T1w.anat/T1.nii.gz\n",
      "Subcortical FSL Stats Volume Extraction\n",
      "b'184809 184808.757660 \\n377116 377115.505487 \\n16803 16802.977966 \\n6605 6604.991339 \\n3647 3646.995218 \\n4759 4758.993760 \\n1643 1642.997846 \\n22178 22177.970918 \\n3722 3721.995119 \\n1657 1656.997827 \\n406 405.999468 \\n184286 184285.758345 \\n372971 372970.510922 \\n11208 11207.985303 \\n6118 6117.991977 \\n3377 3376.995572 \\n4848 4847.993643 \\n1648 1647.997839 \\n3209 3208.995792 \\n1590 1589.997915 \\n311 310.999592 \\n'\n",
      "NEW***************************************************************************************\n"
     ]
    }
   ],
   "source": [
    "import os \n",
    "import subprocess\n",
    "\n",
    "\n",
    "directory =  \"/mnt/md0/cads-phd/explainbrainROI/spr_mini_try_again\"\n",
    "\n",
    "\n",
    "\n",
    "for filename in os.listdir(directory):\n",
    "    if filename.endswith(\".anat\"):\n",
    "\n",
    "\n",
    "        #  Cortical FSL Stats Volume Extraction\n",
    "        print(filename+\"/Warps/HO_in_subj_t1_space.nii.gz\")\n",
    "        print(filename+\"/T1.nii.gz\")\n",
    "        # out_cort = sout = subprocess.Popen([\"fslstats\", \"-K\", \"./\"+filename+\"/Warps/HO_in_subj_t1_space.nii.gz\", \"./\"+filename+\"/T1.nii.gz\", \"-V\"], stdout=subprocess.PIPE, stderr=subprocess.STDOUT)\n",
    "        print(\"Cortical FSL Stats Volume Extraction\")\n",
    "        out_cort = sout = subprocess.Popen([\"fslstats\", \"-K\",directory+\"/\"+filename+\"/Warps/HO_in_subj_t1_space.nii.gz\", directory+\"/\"+filename+\"/T1.nii.gz\", \"-V\"], stdout=subprocess.PIPE, stderr=subprocess.STDOUT)\n",
    "\n",
    "        cort_stdout,stderr = out_cort.communicate()\n",
    "        print(cort_stdout)\n",
    "        print(\"NEW***************************************************************************************\")\n",
    "\n",
    "        # Subcortical FSL Stats Volume Extraction\n",
    "        print(filename+\"/Warps/subcort_HO_in_subj_t1_space.nii.gz\")\n",
    "        print(filename+\"/T1.nii.gz\")\n",
    "        print(\"Subcortical FSL Stats Volume Extraction\")\n",
    "        out_subcort = sout = subprocess.Popen([\"fslstats\", \"-K\", directory+\"/\"+filename+\"/Warps/subcort_HO_in_subj_t1_space.nii.gz\", directory+\"/\"+filename+\"/T1.nii.gz\", \"-V\"], stdout=subprocess.PIPE, stderr=subprocess.STDOUT)\n",
    "        subcort_stdout,stderr = out_subcort.communicate()\n",
    "        print(subcort_stdout)\n",
    "        print(\"NEW***************************************************************************************\")\n",
    "\n",
    "\n",
    "        # print(filename+\"/Warps/HO_in_subj_t1_space.nii.gz\")\n",
    "        # print(filename+\"/T1.nii.gz\")\n",
    "        # out_cort = sout = subprocess.Popen([\"fslstats\", \"-K\", \"./\"+filename+\"/Warps/HO_in_subj_t1_space.nii.gz\", \"./\"+filename+\"/T1.nii.gz\", \"-V\"], stdout=subprocess.PIPE, stderr=subprocess.STDOUT)\n",
    "        # cort_stdout,stderr = out_cort.communicate()\n",
    "        # print(cort_stdout)\n",
    "        # print(\"NEW***************************************************************************************\")\n",
    "        \n",
    "        "
   ]
  },
  {
   "cell_type": "code",
   "execution_count": 11,
   "metadata": {},
   "outputs": [
    {
     "data": {
      "text/plain": [
       "'/mnt/md0/cads-phd/explainbrainROI'"
      ]
     },
     "execution_count": 11,
     "metadata": {},
     "output_type": "execute_result"
    }
   ],
   "source": [
    "pwd"
   ]
  },
  {
   "cell_type": "code",
   "execution_count": 1,
   "metadata": {},
   "outputs": [
    {
     "name": "stdout",
     "output_type": "stream",
     "text": [
      "<class 'nibabel.nifti1.Nifti1Image'>\n"
     ]
    },
    {
     "data": {
      "text/plain": [
       "(192, 256, 170)"
      ]
     },
     "execution_count": 1,
     "metadata": {},
     "output_type": "execute_result"
    }
   ],
   "source": [
    "import nibabel as nib\n",
    "# /mnt/md0/cads-phd/explainbrainROI/spr_mini_try_again/sub-A00000368_ses-20110101_acq-mprage_run-01_T1w.anat/T1.nii.gz\n",
    "# directory =  \"/mnt/md0/cads-phd/explainbrainROI/spr_mini_try_again\" \n",
    "# img_path = os.path.join(directory, \"sub-A00000909_ses-20110101_acq-mprage_run-02_T1w.nii.anat/T1.nii.gz\")\n",
    "img = '/mnt/md0/cads-phd/explainbrainROI/spr_mini_try_again/sub-A00000368_ses-20110101_acq-mprage_run-01_T1w.anat/T1.nii.gz'\n",
    "\n",
    "\n",
    "# \"./\"+filename+\"/T1.nii.gz\"\n",
    "# print(img)\n",
    "img = nib.load(img)\n",
    "print(type(img))\n",
    "img_data = img.get_fdata()\n",
    "img_data.shape"
   ]
  },
  {
   "cell_type": "markdown",
   "metadata": {},
   "source": []
  },
  {
   "cell_type": "code",
   "execution_count": null,
   "metadata": {},
   "outputs": [],
   "source": []
  }
 ],
 "metadata": {
  "kernelspec": {
   "display_name": "Python 3",
   "language": "python",
   "name": "python3"
  },
  "language_info": {
   "codemirror_mode": {
    "name": "ipython",
    "version": 3
   },
   "file_extension": ".py",
   "mimetype": "text/x-python",
   "name": "python",
   "nbconvert_exporter": "python",
   "pygments_lexer": "ipython3",
   "version": "3.9.5"
  }
 },
 "nbformat": 4,
 "nbformat_minor": 2
}
