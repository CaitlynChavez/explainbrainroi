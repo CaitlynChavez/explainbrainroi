{
 "cells": [
  {
   "cell_type": "code",
   "execution_count": 1,
   "metadata": {},
   "outputs": [
    {
     "name": "stdout",
     "output_type": "stream",
     "text": [
      "/bin/pip:6: DeprecationWarning: pkg_resources is deprecated as an API. See https://setuptools.pypa.io/en/latest/pkg_resources.html\n",
      "  from pkg_resources import load_entry_point\n",
      "Requirement already satisfied: nibabel in /home/caitlyn/.local/lib/python3.8/site-packages (3.2.1)\n",
      "Requirement already satisfied: numpy>=1.14 in /home/caitlyn/.local/lib/python3.8/site-packages (from nibabel) (1.22.3)\n",
      "Requirement already satisfied: packaging>=14.3 in /home/caitlyn/.local/lib/python3.8/site-packages (from nibabel) (21.0)\n",
      "Requirement already satisfied: pyparsing>=2.0.2 in /home/caitlyn/.local/lib/python3.8/site-packages (from packaging>=14.3->nibabel) (2.4.7)\n",
      "\u001b[31mERROR: Error checking for conflicts.\n",
      "Traceback (most recent call last):\n",
      "  File \"/home/caitlyn/.local/lib/python3.8/site-packages/pkg_resources/__init__.py\", line 3109, in _dep_map\n",
      "    return self.__dep_map\n",
      "  File \"/home/caitlyn/.local/lib/python3.8/site-packages/pkg_resources/__init__.py\", line 2902, in __getattr__\n",
      "    raise AttributeError(attr)\n",
      "AttributeError: _DistInfoDistribution__dep_map\n",
      "\n",
      "During handling of the above exception, another exception occurred:\n",
      "\n",
      "Traceback (most recent call last):\n",
      "  File \"/home/caitlyn/.local/lib/python3.8/site-packages/pkg_resources/_vendor/packaging/requirements.py\", line 35, in __init__\n",
      "    parsed = _parse_requirement(requirement_string)\n",
      "  File \"/home/caitlyn/.local/lib/python3.8/site-packages/pkg_resources/_vendor/packaging/_parser.py\", line 64, in parse_requirement\n",
      "    return _parse_requirement(Tokenizer(source, rules=DEFAULT_RULES))\n",
      "  File \"/home/caitlyn/.local/lib/python3.8/site-packages/pkg_resources/_vendor/packaging/_parser.py\", line 82, in _parse_requirement\n",
      "    url, specifier, marker = _parse_requirement_details(tokenizer)\n",
      "  File \"/home/caitlyn/.local/lib/python3.8/site-packages/pkg_resources/_vendor/packaging/_parser.py\", line 120, in _parse_requirement_details\n",
      "    specifier = _parse_specifier(tokenizer)\n",
      "  File \"/home/caitlyn/.local/lib/python3.8/site-packages/pkg_resources/_vendor/packaging/_parser.py\", line 217, in _parse_specifier\n",
      "    tokenizer.consume(\"WS\")\n",
      "  File \"/usr/lib/python3.8/contextlib.py\", line 120, in __exit__\n",
      "    next(self.gen)\n",
      "  File \"/home/caitlyn/.local/lib/python3.8/site-packages/pkg_resources/_vendor/packaging/_tokenizer.py\", line 187, in enclosing_tokens\n",
      "    self.raise_syntax_error(\n",
      "  File \"/home/caitlyn/.local/lib/python3.8/site-packages/pkg_resources/_vendor/packaging/_tokenizer.py\", line 165, in raise_syntax_error\n",
      "    raise ParserSyntaxError(\n",
      "pkg_resources.extern.packaging._tokenizer.ParserSyntaxError: Expected matching RIGHT_PARENTHESIS for LEFT_PARENTHESIS, after version specifier\n",
      "    tinycss2 (>=1.1.0<1.2) ; extra == 'css'\n",
      "             ~~~~~~~~^\n",
      "\n",
      "The above exception was the direct cause of the following exception:\n",
      "\n",
      "Traceback (most recent call last):\n",
      "  File \"/usr/lib/python3/dist-packages/pip/_internal/commands/install.py\", line 543, in _warn_about_conflicts\n",
      "    package_set, _dep_info = check_install_conflicts(to_install)\n",
      "  File \"/usr/lib/python3/dist-packages/pip/_internal/operations/check.py\", line 114, in check_install_conflicts\n",
      "    package_set, _ = create_package_set_from_installed()\n",
      "  File \"/usr/lib/python3/dist-packages/pip/_internal/operations/check.py\", line 53, in create_package_set_from_installed\n",
      "    package_set[name] = PackageDetails(dist.version, dist.requires())\n",
      "  File \"/home/caitlyn/.local/lib/python3.8/site-packages/pkg_resources/__init__.py\", line 2822, in requires\n",
      "    dm = self._dep_map\n",
      "  File \"/home/caitlyn/.local/lib/python3.8/site-packages/pkg_resources/__init__.py\", line 3111, in _dep_map\n",
      "    self.__dep_map = self._compute_dependencies()\n",
      "  File \"/home/caitlyn/.local/lib/python3.8/site-packages/pkg_resources/__init__.py\", line 3121, in _compute_dependencies\n",
      "    reqs.extend(parse_requirements(req))\n",
      "  File \"/home/caitlyn/.local/lib/python3.8/site-packages/pkg_resources/__init__.py\", line 3174, in __init__\n",
      "    super(Requirement, self).__init__(requirement_string)\n",
      "  File \"/home/caitlyn/.local/lib/python3.8/site-packages/pkg_resources/_vendor/packaging/requirements.py\", line 37, in __init__\n",
      "    raise InvalidRequirement(str(e)) from e\n",
      "pkg_resources.extern.packaging.requirements.InvalidRequirement: Expected matching RIGHT_PARENTHESIS for LEFT_PARENTHESIS, after version specifier\n",
      "    tinycss2 (>=1.1.0<1.2) ; extra == 'css'\n",
      "             ~~~~~~~~^\u001b[0m\n",
      "sub-A00000541_ses-20100101_acq-mprage_run-02_T1w.nii\n",
      "/mnt/md0/cads-phd/explainbrainROI/spr_mini/sub-A00000541_ses-20100101_acq-mprage_run-02_T1w.nii\n"
     ]
    },
    {
     "ename": "NameError",
     "evalue": "name 'nib' is not defined",
     "output_type": "error",
     "traceback": [
      "\u001b[0;31m---------------------------------------------------------------------------\u001b[0m",
      "\u001b[0;31mNameError\u001b[0m                                 Traceback (most recent call last)",
      "\u001b[1;32m/mnt/md0/cads-phd/explainbrainROI/src/explainbrainroi/trying_fsl.ipynb Cell 1\u001b[0m line \u001b[0;36m<cell line: 26>\u001b[0;34m()\u001b[0m\n\u001b[1;32m     <a href='vscode-notebook-cell:/mnt/md0/cads-phd/explainbrainROI/src/explainbrainroi/trying_fsl.ipynb#W0sZmlsZQ%3D%3D?line=23'>24</a>\u001b[0m path \u001b[39m=\u001b[39m \u001b[39m'\u001b[39m\u001b[39m/mnt/md0/cads-phd/explainbrainROI/spr_mini/\u001b[39m\u001b[39m'\u001b[39m\n\u001b[1;32m     <a href='vscode-notebook-cell:/mnt/md0/cads-phd/explainbrainROI/src/explainbrainroi/trying_fsl.ipynb#W0sZmlsZQ%3D%3D?line=24'>25</a>\u001b[0m folder_path \u001b[39m=\u001b[39m path \u001b[39m# Replace with the path to your folder\u001b[39;00m\n\u001b[0;32m---> <a href='vscode-notebook-cell:/mnt/md0/cads-phd/explainbrainROI/src/explainbrainroi/trying_fsl.ipynb#W0sZmlsZQ%3D%3D?line=25'>26</a>\u001b[0m loaded_images \u001b[39m=\u001b[39m load_images_from_folder(folder_path)\n",
      "\u001b[1;32m/mnt/md0/cads-phd/explainbrainROI/src/explainbrainroi/trying_fsl.ipynb Cell 1\u001b[0m line \u001b[0;36mload_images_from_folder\u001b[0;34m(folder_path)\u001b[0m\n\u001b[1;32m     <a href='vscode-notebook-cell:/mnt/md0/cads-phd/explainbrainROI/src/explainbrainroi/trying_fsl.ipynb#W0sZmlsZQ%3D%3D?line=13'>14</a>\u001b[0m img_path \u001b[39m=\u001b[39m os\u001b[39m.\u001b[39mpath\u001b[39m.\u001b[39mjoin(folder_path, filename)\n\u001b[1;32m     <a href='vscode-notebook-cell:/mnt/md0/cads-phd/explainbrainROI/src/explainbrainroi/trying_fsl.ipynb#W0sZmlsZQ%3D%3D?line=14'>15</a>\u001b[0m \u001b[39mprint\u001b[39m(img_path)\n\u001b[0;32m---> <a href='vscode-notebook-cell:/mnt/md0/cads-phd/explainbrainROI/src/explainbrainroi/trying_fsl.ipynb#W0sZmlsZQ%3D%3D?line=15'>16</a>\u001b[0m img_data \u001b[39m=\u001b[39m nib\u001b[39m.\u001b[39mload(img_path)\u001b[39m.\u001b[39mget_fdata()\n\u001b[1;32m     <a href='vscode-notebook-cell:/mnt/md0/cads-phd/explainbrainROI/src/explainbrainroi/trying_fsl.ipynb#W0sZmlsZQ%3D%3D?line=17'>18</a>\u001b[0m \u001b[39mprint\u001b[39m(\u001b[39mf\u001b[39m\u001b[39m\"\u001b[39m\u001b[39mShape of image \u001b[39m\u001b[39m{\u001b[39;00mfilename\u001b[39m}\u001b[39;00m\u001b[39m: \u001b[39m\u001b[39m{\u001b[39;00mimg_data\u001b[39m.\u001b[39mshape\u001b[39m}\u001b[39;00m\u001b[39m\"\u001b[39m)\n\u001b[1;32m     <a href='vscode-notebook-cell:/mnt/md0/cads-phd/explainbrainROI/src/explainbrainroi/trying_fsl.ipynb#W0sZmlsZQ%3D%3D?line=18'>19</a>\u001b[0m images\u001b[39m.\u001b[39mappend(img_data)\n",
      "\u001b[0;31mNameError\u001b[0m: name 'nib' is not defined"
     ]
    }
   ],
   "source": [
    "import subprocess\n",
    "\n",
    "\n",
    "!pip install nibabel\n",
    "import os\n",
    "# import nibabel as nib\n",
    "import numpy as np\n",
    "\n",
    "def load_images_from_folder(folder_path):\n",
    "    images = []\n",
    "    for filename in os.listdir(folder_path):\n",
    "        if filename.endswith(\".nii\") or filename.endswith(\".nii.gz\"): # Check for specific image file extensions\n",
    "            print(filename)\n",
    "            img_path = os.path.join(folder_path, filename)\n",
    "            print(img_path)\n",
    "            img_data = nib.load(img_path).get_fdata()\n",
    "\n",
    "            print(f\"Shape of image {filename}: {img_data.shape}\")\n",
    "            images.append(img_data)\n",
    "    return np.array(images)\n",
    "\n",
    "# Example usage:\n",
    "\n",
    "path = '/mnt/md0/cads-phd/explainbrainROI/spr_mini/'\n",
    "folder_path = path # Replace with the path to your folder\n",
    "loaded_images = load_images_from_folder(folder_path)\n"
   ]
  },
  {
   "cell_type": "code",
   "execution_count": 10,
   "metadata": {},
   "outputs": [
    {
     "data": {
      "text/plain": [
       "array([], dtype=float64)"
      ]
     },
     "execution_count": 10,
     "metadata": {},
     "output_type": "execute_result"
    }
   ],
   "source": [
    "loaded_images\n"
   ]
  },
  {
   "cell_type": "code",
   "execution_count": 13,
   "metadata": {},
   "outputs": [
    {
     "name": "stdout",
     "output_type": "stream",
     "text": [
      "/mnt/md0/cads-phd/explainbrainROI/src/explainbrainroi\n"
     ]
    }
   ],
   "source": [
    "/mnt/md0/cads-phd/explainbrainROI/spr_mini/sub-A00000368_ses-20110101_acq-mprage_run-01_T1w.nii"
   ]
  },
  {
   "cell_type": "code",
   "execution_count": null,
   "metadata": {},
   "outputs": [],
   "source": []
  }
 ],
 "metadata": {
  "kernelspec": {
   "display_name": "Python 3",
   "language": "python",
   "name": "python3"
  },
  "language_info": {
   "codemirror_mode": {
    "name": "ipython",
    "version": 3
   },
   "file_extension": ".py",
   "mimetype": "text/x-python",
   "name": "python",
   "nbconvert_exporter": "python",
   "pygments_lexer": "ipython3",
   "version": "3.9.5"
  }
 },
 "nbformat": 4,
 "nbformat_minor": 2
}
