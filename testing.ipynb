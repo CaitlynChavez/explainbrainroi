{
 "cells": [
  {
   "cell_type": "code",
   "execution_count": null,
   "metadata": {},
   "outputs": [
    {
     "ename": "",
     "evalue": "",
     "output_type": "error",
     "traceback": [
      "\u001b[1;31mThe kernel failed to start as 'filefind' could not be imported from '/home/caitlyn/.local/lib/python3.8/site-packages/traitlets/utils/__init__.py'.\n",
      "\u001b[1;31mClick <a href='https://aka.ms/kernelFailuresModuleImportErrFromFile'>here</a> for more info."
     ]
    }
   ],
   "source": [
    "import os\n",
    "import nibabel as nib\n",
    "import numpy as np\n",
    "\n",
    "def load_images_from_folder(folder_path):\n",
    "    images = []\n",
    "    for filename in os.listdir(folder_path):\n",
    "        if filename.endswith(\".nii\") or filename.endswith(\".nii.gz\"): # Check for specific image file extensions\n",
    "            img_path = os.path.join(folder_path, filename)\n",
    "            img = nib.load(img_path)\n",
    "            img_data = img.get_fdata()\n",
    "            print(f\"Shape of image {filename}: {img_data.shape}\")\n",
    "            images.append(img_data)\n",
    "    return np.array(images)\n",
    "\n",
    "# Example usage:\n",
    "folder_path = \"path_to_your_folder\" # Replace with the path to your folder\n",
    "loaded_images = load_images_from_folder(folder_path)\n"
   ]
  },
  {
   "cell_type": "code",
   "execution_count": null,
   "metadata": {},
   "outputs": [
    {
     "ename": "",
     "evalue": "",
     "output_type": "error",
     "traceback": [
      "\u001b[1;31mThe kernel failed to start as 'filefind' could not be imported from '/home/caitlyn/.local/lib/python3.8/site-packages/traitlets/utils/__init__.py'.\n",
      "\u001b[1;31mClick <a href='https://aka.ms/kernelFailuresModuleImportErrFromFile'>here</a> for more info."
     ]
    }
   ],
   "source": [
    "!pwd"
   ]
  },
  {
   "cell_type": "code",
   "execution_count": null,
   "metadata": {},
   "outputs": [],
   "source": []
  }
 ],
 "metadata": {
  "kernelspec": {
   "display_name": "Python 3",
   "language": "python",
   "name": "python3"
  },
  "language_info": {
   "name": "python",
   "version": "3.8.10"
  }
 },
 "nbformat": 4,
 "nbformat_minor": 2
}
